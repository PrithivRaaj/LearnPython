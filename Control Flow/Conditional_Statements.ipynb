{
  "nbformat": 4,
  "nbformat_minor": 0,
  "metadata": {
    "colab": {
      "provenance": []
    },
    "kernelspec": {
      "name": "python3",
      "display_name": "Python 3"
    },
    "language_info": {
      "name": "python"
    }
  },
  "cells": [
    {
      "cell_type": "markdown",
      "source": [
        "# if Statement"
      ],
      "metadata": {
        "id": "4L5voSfoHVI9"
      }
    },
    {
      "cell_type": "code",
      "execution_count": 1,
      "metadata": {
        "colab": {
          "base_uri": "https://localhost:8080/"
        },
        "id": "acPncmtTHHaK",
        "outputId": "b5c197dd-19fd-4bb0-f4b8-e1519f5b4866"
      },
      "outputs": [
        {
          "output_type": "stream",
          "name": "stdout",
          "text": [
            "10 greater than 5\n",
            "Program ended\n"
          ]
        }
      ],
      "source": [
        "# if statement example\n",
        "if 10 > 5:\n",
        "    print(\"10 greater than 5\")\n",
        "\n",
        "print(\"Program ended\")"
      ]
    },
    {
      "cell_type": "markdown",
      "source": [
        "# if-else Statement"
      ],
      "metadata": {
        "id": "CbMGMiroHhgU"
      }
    },
    {
      "cell_type": "code",
      "source": [
        "# if..else statement example\n",
        "age=int(input())\n",
        "if age>=18:\n",
        "\tprint(\"Eligible for vote\")\n",
        "else:\n",
        "\tprint(\"Not eligible for vote\")\n"
      ],
      "metadata": {
        "colab": {
          "base_uri": "https://localhost:8080/"
        },
        "id": "3QZUSO7uHgBM",
        "outputId": "4d1457b3-9f29-48c7-f68f-d4db7f346e54"
      },
      "execution_count": 6,
      "outputs": [
        {
          "output_type": "stream",
          "name": "stdout",
          "text": [
            "18\n",
            "Eligible for vote\n"
          ]
        }
      ]
    },
    {
      "cell_type": "markdown",
      "source": [
        "# nested if Statement"
      ],
      "metadata": {
        "id": "ePBoNUkPIO_G"
      }
    },
    {
      "cell_type": "code",
      "source": [
        "# Nested if statement example\n",
        "num = 10\n",
        "\n",
        "if num > 5:\n",
        "\tprint(\"Bigger than 5\")\n",
        "\n",
        "\tif num <= 15:\n",
        "\t\tprint(\"Between 5 and 15\")\n"
      ],
      "metadata": {
        "colab": {
          "base_uri": "https://localhost:8080/"
        },
        "id": "mh4RLtmoHpZO",
        "outputId": "716d0bed-35a1-4d59-d612-e402edf4eb17"
      },
      "execution_count": 7,
      "outputs": [
        {
          "output_type": "stream",
          "name": "stdout",
          "text": [
            "Bigger than 5\n",
            "Between 5 and 15\n"
          ]
        }
      ]
    },
    {
      "cell_type": "markdown",
      "source": [
        "# if-elif Statement"
      ],
      "metadata": {
        "id": "Q1gMRvLlIcvM"
      }
    },
    {
      "cell_type": "code",
      "source": [
        "num=int(input())\n",
        "if num<0:\n",
        "  print(\"Negative\")\n",
        "elif num>0:\n",
        "  print(\"Positive\")\n",
        "else:\n",
        "  print(\"Zero\")"
      ],
      "metadata": {
        "colab": {
          "base_uri": "https://localhost:8080/"
        },
        "id": "ZA0lrJnrIhy2",
        "outputId": "97847465-ff23-4fe2-e402-cd9ee60670ad"
      },
      "execution_count": 9,
      "outputs": [
        {
          "output_type": "stream",
          "name": "stdout",
          "text": [
            "-1\n",
            "Negative\n"
          ]
        }
      ]
    },
    {
      "cell_type": "code",
      "source": [],
      "metadata": {
        "id": "F2HFXhXnLLr3"
      },
      "execution_count": null,
      "outputs": []
    }
  ]
}