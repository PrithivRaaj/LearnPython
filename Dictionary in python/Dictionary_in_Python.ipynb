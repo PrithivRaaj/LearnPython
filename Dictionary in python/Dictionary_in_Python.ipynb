{
  "nbformat": 4,
  "nbformat_minor": 0,
  "metadata": {
    "colab": {
      "provenance": []
    },
    "kernelspec": {
      "name": "python3",
      "display_name": "Python 3"
    },
    "language_info": {
      "name": "python"
    }
  },
  "cells": [
    {
      "cell_type": "markdown",
      "source": [
        "# Create a dictionary"
      ],
      "metadata": {
        "id": "-7kgR0iaxjhu"
      }
    },
    {
      "cell_type": "code",
      "source": [
        "Dict = {1: 'Hello', 2: 'World!'}\n",
        "print(Dict)\n"
      ],
      "metadata": {
        "colab": {
          "base_uri": "https://localhost:8080/"
        },
        "id": "6mlQMlSayyV8",
        "outputId": "4268707f-d78b-486f-a4f1-a4750e12399d"
      },
      "execution_count": 3,
      "outputs": [
        {
          "output_type": "stream",
          "name": "stdout",
          "text": [
            "{1: 'Hello', 2: 'World!'}\n"
          ]
        }
      ]
    },
    {
      "cell_type": "code",
      "execution_count": 2,
      "metadata": {
        "id": "wPmILJhxxNLl"
      },
      "outputs": [],
      "source": [
        "dict1={} #Empty Dictionary"
      ]
    },
    {
      "cell_type": "code",
      "source": [
        "dict2=dict() #Empty Dictionary"
      ],
      "metadata": {
        "id": "nOme4dgdxuYC"
      },
      "execution_count": 4,
      "outputs": []
    },
    {
      "cell_type": "code",
      "source": [
        "dict3=dict([(1,'Hello'),(2,'World')]) #Dictionary with list of tuples"
      ],
      "metadata": {
        "id": "Idqg3vjUzimC"
      },
      "execution_count": 5,
      "outputs": []
    },
    {
      "cell_type": "code",
      "source": [
        "dict3"
      ],
      "metadata": {
        "colab": {
          "base_uri": "https://localhost:8080/"
        },
        "id": "QbCsjjw8zn7a",
        "outputId": "03edb4f2-c9e8-4056-b83a-4b6111ae618e"
      },
      "execution_count": 6,
      "outputs": [
        {
          "output_type": "execute_result",
          "data": {
            "text/plain": [
              "{1: 'Hello', 2: 'World'}"
            ]
          },
          "metadata": {},
          "execution_count": 6
        }
      ]
    },
    {
      "cell_type": "code",
      "source": [
        "Dict4={1:'Hello',2:'World',3:{'A':'Welcome','B':'To','C':'Python'}} #Nested Dictionary\n",
        "Dict4"
      ],
      "metadata": {
        "colab": {
          "base_uri": "https://localhost:8080/"
        },
        "id": "q9zP9R1fzpWz",
        "outputId": "798b46f5-b761-4f56-8d8d-8e9b96edad2b"
      },
      "execution_count": 7,
      "outputs": [
        {
          "output_type": "execute_result",
          "data": {
            "text/plain": [
              "{1: 'Hello', 2: 'World', 3: {'A': 'Welcome', 'B': 'To', 'C': 'Python'}}"
            ]
          },
          "metadata": {},
          "execution_count": 7
        }
      ]
    },
    {
      "cell_type": "markdown",
      "source": [
        "# Adding Element to Dictionary"
      ],
      "metadata": {
        "id": "rlc-5C381vw_"
      }
    },
    {
      "cell_type": "code",
      "source": [
        "dictionary={}\n",
        "dictionary[0]='Welcome'\n",
        "dictionary[1]='To'\n",
        "dictionary[2]='Python'\n",
        "dictionary"
      ],
      "metadata": {
        "colab": {
          "base_uri": "https://localhost:8080/"
        },
        "id": "hryvPPRe0oiP",
        "outputId": "e427e641-79c3-4f79-a6c4-f1ad18f65f06"
      },
      "execution_count": 8,
      "outputs": [
        {
          "output_type": "execute_result",
          "data": {
            "text/plain": [
              "{0: 'Welcome', 1: 'To', 2: 'Python'}"
            ]
          },
          "metadata": {},
          "execution_count": 8
        }
      ]
    },
    {
      "cell_type": "markdown",
      "source": [
        "# Accessing Elements of a Dictionary"
      ],
      "metadata": {
        "id": "5tal6nLzL0W9"
      }
    },
    {
      "cell_type": "code",
      "source": [
        "Dict1={'name':'Hyundai','Model':'Elentra','Year':1990,'Varients':{1:'Hyundai Elantra VTVT S',2:'Hyundai Elantra VTVT SX',3:'Hyundai Elantra CRDi SX'}}"
      ],
      "metadata": {
        "id": "zCkzKeegKJnq"
      },
      "execution_count": 9,
      "outputs": []
    },
    {
      "cell_type": "code",
      "source": [
        "Dict1['name']"
      ],
      "metadata": {
        "colab": {
          "base_uri": "https://localhost:8080/",
          "height": 35
        },
        "id": "iu5Oe_iEOfbt",
        "outputId": "e31a15e1-21ac-494b-e6ad-61d23437b8a0"
      },
      "execution_count": 10,
      "outputs": [
        {
          "output_type": "execute_result",
          "data": {
            "text/plain": [
              "'Hyundai'"
            ],
            "application/vnd.google.colaboratory.intrinsic+json": {
              "type": "string"
            }
          },
          "metadata": {},
          "execution_count": 10
        }
      ]
    },
    {
      "cell_type": "code",
      "source": [
        "Dict1['Model']"
      ],
      "metadata": {
        "colab": {
          "base_uri": "https://localhost:8080/",
          "height": 35
        },
        "id": "cC9xqh56OlOl",
        "outputId": "a39073f9-e440-4f36-e35e-d9a01815b891"
      },
      "execution_count": 11,
      "outputs": [
        {
          "output_type": "execute_result",
          "data": {
            "text/plain": [
              "'Elentra'"
            ],
            "application/vnd.google.colaboratory.intrinsic+json": {
              "type": "string"
            }
          },
          "metadata": {},
          "execution_count": 11
        }
      ]
    },
    {
      "cell_type": "code",
      "source": [
        "Dict1['Year']"
      ],
      "metadata": {
        "colab": {
          "base_uri": "https://localhost:8080/"
        },
        "id": "wI_jlzugOrTx",
        "outputId": "a276a86b-9d3a-4c85-9fef-23a1d78ebaaf"
      },
      "execution_count": 12,
      "outputs": [
        {
          "output_type": "execute_result",
          "data": {
            "text/plain": [
              "1990"
            ]
          },
          "metadata": {},
          "execution_count": 12
        }
      ]
    },
    {
      "cell_type": "markdown",
      "source": [
        "# Access a Value in Dictionary using get() in Python"
      ],
      "metadata": {
        "id": "pxGrY-2WO-me"
      }
    },
    {
      "cell_type": "code",
      "source": [
        "Dict1.get('name')"
      ],
      "metadata": {
        "colab": {
          "base_uri": "https://localhost:8080/",
          "height": 35
        },
        "id": "wnV3qe3hOwZ_",
        "outputId": "36d11c93-5037-4e64-a822-0a30feb3106a"
      },
      "execution_count": 13,
      "outputs": [
        {
          "output_type": "execute_result",
          "data": {
            "text/plain": [
              "'Hyundai'"
            ],
            "application/vnd.google.colaboratory.intrinsic+json": {
              "type": "string"
            }
          },
          "metadata": {},
          "execution_count": 13
        }
      ]
    },
    {
      "cell_type": "code",
      "source": [
        "Dict1['Varients'][1]"
      ],
      "metadata": {
        "colab": {
          "base_uri": "https://localhost:8080/",
          "height": 35
        },
        "id": "N1zosRFrPGdh",
        "outputId": "88298619-16d0-4444-e15d-6cab9bfe2ea4"
      },
      "execution_count": 14,
      "outputs": [
        {
          "output_type": "execute_result",
          "data": {
            "text/plain": [
              "'Hyundai Elantra VTVT S'"
            ],
            "application/vnd.google.colaboratory.intrinsic+json": {
              "type": "string"
            }
          },
          "metadata": {},
          "execution_count": 14
        }
      ]
    },
    {
      "cell_type": "code",
      "source": [
        "Dict1['Varients'][3]"
      ],
      "metadata": {
        "colab": {
          "base_uri": "https://localhost:8080/",
          "height": 35
        },
        "id": "s-vKu5FeXjTf",
        "outputId": "1091836d-dc89-42ff-93e1-0fdd5677e48c"
      },
      "execution_count": 15,
      "outputs": [
        {
          "output_type": "execute_result",
          "data": {
            "text/plain": [
              "'Hyundai Elantra CRDi SX'"
            ],
            "application/vnd.google.colaboratory.intrinsic+json": {
              "type": "string"
            }
          },
          "metadata": {},
          "execution_count": 15
        }
      ]
    },
    {
      "cell_type": "markdown",
      "source": [
        "# Deleting Element"
      ],
      "metadata": {
        "id": "IoCguvhIYITb"
      }
    },
    {
      "cell_type": "code",
      "source": [
        "del Dict1['Varients'][3]"
      ],
      "metadata": {
        "id": "FZNJ2IHkX6d2"
      },
      "execution_count": 16,
      "outputs": []
    },
    {
      "cell_type": "code",
      "source": [
        "Dict1"
      ],
      "metadata": {
        "colab": {
          "base_uri": "https://localhost:8080/"
        },
        "id": "40xZqjkfYU04",
        "outputId": "7b25b1d9-e35e-43a1-b83c-1f92b30d9881"
      },
      "execution_count": 17,
      "outputs": [
        {
          "output_type": "execute_result",
          "data": {
            "text/plain": [
              "{'name': 'Hyundai',\n",
              " 'Model': 'Elentra',\n",
              " 'Year': 1990,\n",
              " 'Varients': {1: 'Hyundai Elantra VTVT S', 2: 'Hyundai Elantra VTVT SX'}}"
            ]
          },
          "metadata": {},
          "execution_count": 17
        }
      ]
    },
    {
      "cell_type": "markdown",
      "source": [
        "# Changing Item"
      ],
      "metadata": {
        "id": "BhN1YoM5Y10r"
      }
    },
    {
      "cell_type": "code",
      "source": [
        "Dict1['Model']='Verna'"
      ],
      "metadata": {
        "id": "1QLdGAsDYXm8"
      },
      "execution_count": 18,
      "outputs": []
    },
    {
      "cell_type": "code",
      "source": [
        "Dict1"
      ],
      "metadata": {
        "colab": {
          "base_uri": "https://localhost:8080/"
        },
        "id": "Z8gy7zdlZgpK",
        "outputId": "21c3fa14-7598-4e65-a91c-88fbb25f3236"
      },
      "execution_count": 19,
      "outputs": [
        {
          "output_type": "execute_result",
          "data": {
            "text/plain": [
              "{'name': 'Hyundai',\n",
              " 'Model': 'Verna',\n",
              " 'Year': 1990,\n",
              " 'Varients': {1: 'Hyundai Elantra VTVT S', 2: 'Hyundai Elantra VTVT SX'}}"
            ]
          },
          "metadata": {},
          "execution_count": 19
        }
      ]
    },
    {
      "cell_type": "code",
      "source": [
        "Dict1.update({\"Year\":2020})"
      ],
      "metadata": {
        "id": "1oZhB8SxZiMt"
      },
      "execution_count": 21,
      "outputs": []
    },
    {
      "cell_type": "code",
      "source": [
        "Dict1"
      ],
      "metadata": {
        "colab": {
          "base_uri": "https://localhost:8080/"
        },
        "id": "XYewUUazciTt",
        "outputId": "f0d69dad-6af5-4d8c-ad4e-4922c8f09885"
      },
      "execution_count": 22,
      "outputs": [
        {
          "output_type": "execute_result",
          "data": {
            "text/plain": [
              "{'name': 'Hyundai',\n",
              " 'Model': 'Verna',\n",
              " 'Year': 2020,\n",
              " 'Varients': {1: 'Hyundai Elantra VTVT S', 2: 'Hyundai Elantra VTVT SX'}}"
            ]
          },
          "metadata": {},
          "execution_count": 22
        }
      ]
    },
    {
      "cell_type": "markdown",
      "source": [
        "# Adding Items"
      ],
      "metadata": {
        "id": "rF7sImbxc4YA"
      }
    },
    {
      "cell_type": "code",
      "source": [
        "Dict1['color']='white'"
      ],
      "metadata": {
        "id": "qO0fs5Wfc3yD"
      },
      "execution_count": 24,
      "outputs": []
    },
    {
      "cell_type": "code",
      "source": [
        "Dict1"
      ],
      "metadata": {
        "colab": {
          "base_uri": "https://localhost:8080/"
        },
        "id": "FLuIik2JcxP9",
        "outputId": "2cc78c5b-d0be-41cc-a5be-70959446e603"
      },
      "execution_count": 25,
      "outputs": [
        {
          "output_type": "execute_result",
          "data": {
            "text/plain": [
              "{'name': 'Hyundai',\n",
              " 'Model': 'Verna',\n",
              " 'Year': 2020,\n",
              " 'Varients': {1: 'Hyundai Elantra VTVT S', 2: 'Hyundai Elantra VTVT SX'},\n",
              " 'color': 'white'}"
            ]
          },
          "metadata": {},
          "execution_count": 25
        }
      ]
    },
    {
      "cell_type": "code",
      "source": [
        "Dict1.update({'Price':'2.5M'})"
      ],
      "metadata": {
        "id": "gewGh4-idK6S"
      },
      "execution_count": 26,
      "outputs": []
    },
    {
      "cell_type": "code",
      "source": [
        "Dict1"
      ],
      "metadata": {
        "colab": {
          "base_uri": "https://localhost:8080/"
        },
        "id": "NPwjah34dgMW",
        "outputId": "33a30de3-ec72-4414-9ea7-885e7afb5411"
      },
      "execution_count": 27,
      "outputs": [
        {
          "output_type": "execute_result",
          "data": {
            "text/plain": [
              "{'name': 'Hyundai',\n",
              " 'Model': 'Verna',\n",
              " 'Year': 2020,\n",
              " 'Varients': {1: 'Hyundai Elantra VTVT S', 2: 'Hyundai Elantra VTVT SX'},\n",
              " 'color': 'white',\n",
              " 'Price': '2.5M'}"
            ]
          },
          "metadata": {},
          "execution_count": 27
        }
      ]
    },
    {
      "cell_type": "markdown",
      "source": [
        "# Removing Items"
      ],
      "metadata": {
        "id": "IeYwj6hUdtVv"
      }
    },
    {
      "cell_type": "code",
      "source": [
        "Dict1"
      ],
      "metadata": {
        "colab": {
          "base_uri": "https://localhost:8080/"
        },
        "id": "oLF9c4GIduTI",
        "outputId": "f5a719d4-c5af-4f5e-fa18-7a979dbe6a07"
      },
      "execution_count": 28,
      "outputs": [
        {
          "output_type": "execute_result",
          "data": {
            "text/plain": [
              "{'name': 'Hyundai',\n",
              " 'Model': 'Verna',\n",
              " 'Year': 2020,\n",
              " 'Varients': {1: 'Hyundai Elantra VTVT S', 2: 'Hyundai Elantra VTVT SX'},\n",
              " 'color': 'white',\n",
              " 'Price': '2.5M'}"
            ]
          },
          "metadata": {},
          "execution_count": 28
        }
      ]
    },
    {
      "cell_type": "code",
      "source": [
        "Dict1.pop('Price') #The pop() method removes the item with the specified key name"
      ],
      "metadata": {
        "colab": {
          "base_uri": "https://localhost:8080/",
          "height": 35
        },
        "id": "RAR1vCKAdhYA",
        "outputId": "a2041673-0b5f-44aa-c785-04e25ebc7b4f"
      },
      "execution_count": 29,
      "outputs": [
        {
          "output_type": "execute_result",
          "data": {
            "text/plain": [
              "'2.5M'"
            ],
            "application/vnd.google.colaboratory.intrinsic+json": {
              "type": "string"
            }
          },
          "metadata": {},
          "execution_count": 29
        }
      ]
    },
    {
      "cell_type": "code",
      "source": [
        "Dict1"
      ],
      "metadata": {
        "colab": {
          "base_uri": "https://localhost:8080/"
        },
        "id": "4SgcmONBdzhl",
        "outputId": "1d48d52e-d6de-452b-9113-c6fb4245697d"
      },
      "execution_count": 30,
      "outputs": [
        {
          "output_type": "execute_result",
          "data": {
            "text/plain": [
              "{'name': 'Hyundai',\n",
              " 'Model': 'Verna',\n",
              " 'Year': 2020,\n",
              " 'Varients': {1: 'Hyundai Elantra VTVT S', 2: 'Hyundai Elantra VTVT SX'},\n",
              " 'color': 'white'}"
            ]
          },
          "metadata": {},
          "execution_count": 30
        }
      ]
    },
    {
      "cell_type": "code",
      "source": [
        "Dict1.popitem() #The popitem() method removes the last inserted item"
      ],
      "metadata": {
        "colab": {
          "base_uri": "https://localhost:8080/"
        },
        "id": "TKB7QKFfd10d",
        "outputId": "26646ffe-a745-4412-8d7c-96cef8a1791b"
      },
      "execution_count": 31,
      "outputs": [
        {
          "output_type": "execute_result",
          "data": {
            "text/plain": [
              "('color', 'white')"
            ]
          },
          "metadata": {},
          "execution_count": 31
        }
      ]
    },
    {
      "cell_type": "code",
      "source": [
        "Dict1"
      ],
      "metadata": {
        "colab": {
          "base_uri": "https://localhost:8080/"
        },
        "id": "abJM9F-kd5Ad",
        "outputId": "cead481d-82f9-4b9c-deff-ddd7efb71c8a"
      },
      "execution_count": 32,
      "outputs": [
        {
          "output_type": "execute_result",
          "data": {
            "text/plain": [
              "{'name': 'Hyundai',\n",
              " 'Model': 'Verna',\n",
              " 'Year': 2020,\n",
              " 'Varients': {1: 'Hyundai Elantra VTVT S', 2: 'Hyundai Elantra VTVT SX'}}"
            ]
          },
          "metadata": {},
          "execution_count": 32
        }
      ]
    },
    {
      "cell_type": "code",
      "source": [
        "del Dict1['Year'] #The del keyword removes the item with the specified key name"
      ],
      "metadata": {
        "id": "v21nm8zreKLX"
      },
      "execution_count": 35,
      "outputs": []
    },
    {
      "cell_type": "code",
      "source": [
        "Dict1"
      ],
      "metadata": {
        "colab": {
          "base_uri": "https://localhost:8080/"
        },
        "id": "sOjL2tdqesgN",
        "outputId": "34b3752e-e5ca-4713-99ac-fa7b38b00264"
      },
      "execution_count": 36,
      "outputs": [
        {
          "output_type": "execute_result",
          "data": {
            "text/plain": [
              "{'name': 'Hyundai',\n",
              " 'Model': 'Verna',\n",
              " 'Varients': {1: 'Hyundai Elantra VTVT S', 2: 'Hyundai Elantra VTVT SX'}}"
            ]
          },
          "metadata": {},
          "execution_count": 36
        }
      ]
    },
    {
      "cell_type": "code",
      "source": [
        "Dict1.clear() #The clear() method empties the dictionary"
      ],
      "metadata": {
        "id": "RVTRCU-4e8Df"
      },
      "execution_count": 37,
      "outputs": []
    },
    {
      "cell_type": "code",
      "source": [
        "Dict1"
      ],
      "metadata": {
        "colab": {
          "base_uri": "https://localhost:8080/"
        },
        "id": "Cai2WCPKe_dt",
        "outputId": "2e893bda-7dea-4b45-96ee-c6ff64d95dcd"
      },
      "execution_count": 38,
      "outputs": [
        {
          "output_type": "execute_result",
          "data": {
            "text/plain": [
              "{}"
            ]
          },
          "metadata": {},
          "execution_count": 38
        }
      ]
    },
    {
      "cell_type": "markdown",
      "source": [
        "# Loop Through a Dictionary"
      ],
      "metadata": {
        "id": "akMdA0MRfTd0"
      }
    },
    {
      "cell_type": "code",
      "source": [
        "Dict2={'name':'Hyundai','Model':'Elentra','Year':1990,'Varients':{1:'Hyundai Elantra VTVT S',2:'Hyundai Elantra VTVT SX',3:'Hyundai Elantra CRDi SX'}}"
      ],
      "metadata": {
        "id": "lkQehE8gfCfr"
      },
      "execution_count": 39,
      "outputs": []
    },
    {
      "cell_type": "code",
      "source": [
        "Dict2"
      ],
      "metadata": {
        "colab": {
          "base_uri": "https://localhost:8080/"
        },
        "id": "Yad4YB0ifjT9",
        "outputId": "fd166665-cc87-47ef-bbd8-69d589e8afd9"
      },
      "execution_count": 40,
      "outputs": [
        {
          "output_type": "execute_result",
          "data": {
            "text/plain": [
              "{'name': 'Hyundai',\n",
              " 'Model': 'Elentra',\n",
              " 'Year': 1990,\n",
              " 'Varients': {1: 'Hyundai Elantra VTVT S',\n",
              "  2: 'Hyundai Elantra VTVT SX',\n",
              "  3: 'Hyundai Elantra CRDi SX'}}"
            ]
          },
          "metadata": {},
          "execution_count": 40
        }
      ]
    },
    {
      "cell_type": "code",
      "source": [
        "for x in Dict2:\n",
        "    print(x) #prints the keys"
      ],
      "metadata": {
        "colab": {
          "base_uri": "https://localhost:8080/"
        },
        "id": "EKZMvB0MfknI",
        "outputId": "606ae4b9-bcc5-474c-fed2-70fb5cf0aa8b"
      },
      "execution_count": 41,
      "outputs": [
        {
          "output_type": "stream",
          "name": "stdout",
          "text": [
            "name\n",
            "Model\n",
            "Year\n",
            "Varients\n"
          ]
        }
      ]
    },
    {
      "cell_type": "code",
      "source": [
        "for x in Dict2.values():\n",
        "    print(x) #prints the values"
      ],
      "metadata": {
        "colab": {
          "base_uri": "https://localhost:8080/"
        },
        "id": "FBr_2fDrfvMa",
        "outputId": "9ad37bb1-1a18-4859-b2a5-3c378fcc92d6"
      },
      "execution_count": 42,
      "outputs": [
        {
          "output_type": "stream",
          "name": "stdout",
          "text": [
            "Hyundai\n",
            "Elentra\n",
            "1990\n",
            "{1: 'Hyundai Elantra VTVT S', 2: 'Hyundai Elantra VTVT SX', 3: 'Hyundai Elantra CRDi SX'}\n"
          ]
        }
      ]
    },
    {
      "cell_type": "code",
      "source": [
        "for x in Dict2.items():\n",
        "    print(x) #prints the keys and values"
      ],
      "metadata": {
        "colab": {
          "base_uri": "https://localhost:8080/"
        },
        "id": "QSsfQkvbfyTV",
        "outputId": "cc6922bb-3189-448d-99c9-c56e2ef2ec2a"
      },
      "execution_count": 45,
      "outputs": [
        {
          "output_type": "stream",
          "name": "stdout",
          "text": [
            "('name', 'Hyundai')\n",
            "('Model', 'Elentra')\n",
            "('Year', 1990)\n",
            "('Varients', {1: 'Hyundai Elantra VTVT S', 2: 'Hyundai Elantra VTVT SX', 3: 'Hyundai Elantra CRDi SX'})\n"
          ]
        }
      ]
    },
    {
      "cell_type": "code",
      "source": [
        "for x in Dict2:\n",
        "    print(Dict2[x]) #prints the values"
      ],
      "metadata": {
        "colab": {
          "base_uri": "https://localhost:8080/"
        },
        "id": "BSW8t5Ovf0mk",
        "outputId": "199744c2-1599-48f8-a074-74c16863c3a0"
      },
      "execution_count": 46,
      "outputs": [
        {
          "output_type": "stream",
          "name": "stdout",
          "text": [
            "Hyundai\n",
            "Elentra\n",
            "1990\n",
            "{1: 'Hyundai Elantra VTVT S', 2: 'Hyundai Elantra VTVT SX', 3: 'Hyundai Elantra CRDi SX'}\n"
          ]
        }
      ]
    },
    {
      "cell_type": "code",
      "source": [
        "for x,y in Dict2.items():\n",
        "    print(x,y) #prints the keys and values"
      ],
      "metadata": {
        "colab": {
          "base_uri": "https://localhost:8080/"
        },
        "id": "5RfEW5ArgK-m",
        "outputId": "59716011-0eee-4820-e44e-9497de9d0854"
      },
      "execution_count": 47,
      "outputs": [
        {
          "output_type": "stream",
          "name": "stdout",
          "text": [
            "name Hyundai\n",
            "Model Elentra\n",
            "Year 1990\n",
            "Varients {1: 'Hyundai Elantra VTVT S', 2: 'Hyundai Elantra VTVT SX', 3: 'Hyundai Elantra CRDi SX'}\n"
          ]
        }
      ]
    },
    {
      "cell_type": "code",
      "source": [
        "for x in Dict2.keys():\n",
        "    print(x) #prints the keys"
      ],
      "metadata": {
        "colab": {
          "base_uri": "https://localhost:8080/"
        },
        "id": "gQzwsrTQgOw5",
        "outputId": "304aa5bb-4b0c-4e17-c742-2e2accbef8bb"
      },
      "execution_count": 48,
      "outputs": [
        {
          "output_type": "stream",
          "name": "stdout",
          "text": [
            "name\n",
            "Model\n",
            "Year\n",
            "Varients\n"
          ]
        }
      ]
    },
    {
      "cell_type": "markdown",
      "source": [
        "# Dictionary Methods"
      ],
      "metadata": {
        "id": "jm0Lt1csgVtY"
      }
    },
    {
      "cell_type": "code",
      "source": [
        "Dict2"
      ],
      "metadata": {
        "colab": {
          "base_uri": "https://localhost:8080/"
        },
        "id": "mqrUDPVFgRT7",
        "outputId": "d739e54a-1985-4dfb-ec73-145568b620c8"
      },
      "execution_count": 49,
      "outputs": [
        {
          "output_type": "execute_result",
          "data": {
            "text/plain": [
              "{'name': 'Hyundai',\n",
              " 'Model': 'Elentra',\n",
              " 'Year': 1990,\n",
              " 'Varients': {1: 'Hyundai Elantra VTVT S',\n",
              "  2: 'Hyundai Elantra VTVT SX',\n",
              "  3: 'Hyundai Elantra CRDi SX'}}"
            ]
          },
          "metadata": {},
          "execution_count": 49
        }
      ]
    },
    {
      "cell_type": "code",
      "source": [
        "X=Dict2.copy() #The copy() method returns a copy of the dictionary"
      ],
      "metadata": {
        "id": "u0FDpfYngbJ4"
      },
      "execution_count": 52,
      "outputs": []
    },
    {
      "cell_type": "code",
      "source": [
        "X"
      ],
      "metadata": {
        "colab": {
          "base_uri": "https://localhost:8080/"
        },
        "id": "LcroeedmgwHr",
        "outputId": "8cce54a5-63a7-486b-f880-dfd0d385994a"
      },
      "execution_count": 53,
      "outputs": [
        {
          "output_type": "execute_result",
          "data": {
            "text/plain": [
              "{'name': 'Hyundai',\n",
              " 'Model': 'Elentra',\n",
              " 'Year': 1990,\n",
              " 'Varients': {1: 'Hyundai Elantra VTVT S',\n",
              "  2: 'Hyundai Elantra VTVT SX',\n",
              "  3: 'Hyundai Elantra CRDi SX'}}"
            ]
          },
          "metadata": {},
          "execution_count": 53
        }
      ]
    },
    {
      "cell_type": "code",
      "source": [
        "#The fromkeys() method returns a dictionary with the specified keys and value\n",
        "#dict.fromkeys(keys, value)\n",
        "x = ('key1', 'key2', 'key3')\n",
        "y = 0\n",
        "Dict3 = dict.fromkeys(x, y)\n",
        "print(Dict3)"
      ],
      "metadata": {
        "colab": {
          "base_uri": "https://localhost:8080/"
        },
        "id": "GbhMVWGUgdx8",
        "outputId": "c462c9cf-9525-43d0-8754-e27643a8043d"
      },
      "execution_count": 54,
      "outputs": [
        {
          "output_type": "stream",
          "name": "stdout",
          "text": [
            "{'key1': 0, 'key2': 0, 'key3': 0}\n"
          ]
        }
      ]
    },
    {
      "cell_type": "code",
      "source": [
        "X=dict.fromkeys(x)\n",
        "X"
      ],
      "metadata": {
        "colab": {
          "base_uri": "https://localhost:8080/"
        },
        "id": "T-ohYD99gl_O",
        "outputId": "efc7930e-ab8b-4f01-f026-7ad1c7f87b25"
      },
      "execution_count": 55,
      "outputs": [
        {
          "output_type": "execute_result",
          "data": {
            "text/plain": [
              "{'key1': None, 'key2': None, 'key3': None}"
            ]
          },
          "metadata": {},
          "execution_count": 55
        }
      ]
    },
    {
      "cell_type": "code",
      "source": [
        "Dict2.get('name') #The get() method returns the value of the item with the specified key."
      ],
      "metadata": {
        "colab": {
          "base_uri": "https://localhost:8080/",
          "height": 35
        },
        "id": "DN7wc1JchSBy",
        "outputId": "bdc1e72f-91fe-4075-aac7-38057cbd2930"
      },
      "execution_count": 57,
      "outputs": [
        {
          "output_type": "execute_result",
          "data": {
            "text/plain": [
              "'Hyundai'"
            ],
            "application/vnd.google.colaboratory.intrinsic+json": {
              "type": "string"
            }
          },
          "metadata": {},
          "execution_count": 57
        }
      ]
    },
    {
      "cell_type": "code",
      "source": [
        "Dict2.setdefault('name') #The setdefault() method returns the value of the item with the specified key."
      ],
      "metadata": {
        "colab": {
          "base_uri": "https://localhost:8080/",
          "height": 35
        },
        "id": "JBIww84FhaLg",
        "outputId": "bc043dbd-293c-4cfa-d049-e80daebea793"
      },
      "execution_count": 59,
      "outputs": [
        {
          "output_type": "execute_result",
          "data": {
            "text/plain": [
              "'Hyundai'"
            ],
            "application/vnd.google.colaboratory.intrinsic+json": {
              "type": "string"
            }
          },
          "metadata": {},
          "execution_count": 59
        }
      ]
    },
    {
      "cell_type": "code",
      "source": [
        "Dict2.setdefault('color ',\"Blue\")"
      ],
      "metadata": {
        "colab": {
          "base_uri": "https://localhost:8080/",
          "height": 35
        },
        "id": "dblKbb1Qhzlc",
        "outputId": "1b183b8d-32e5-49f9-a579-1358a5198074"
      },
      "execution_count": 62,
      "outputs": [
        {
          "output_type": "execute_result",
          "data": {
            "text/plain": [
              "'Blue'"
            ],
            "application/vnd.google.colaboratory.intrinsic+json": {
              "type": "string"
            }
          },
          "metadata": {},
          "execution_count": 62
        }
      ]
    },
    {
      "cell_type": "code",
      "source": [
        "Dict2"
      ],
      "metadata": {
        "colab": {
          "base_uri": "https://localhost:8080/"
        },
        "id": "c-T0qQS8jlH8",
        "outputId": "bd280605-d8e5-4851-f468-d75005c8decf"
      },
      "execution_count": 63,
      "outputs": [
        {
          "output_type": "execute_result",
          "data": {
            "text/plain": [
              "{'name': 'Hyundai',\n",
              " 'Model': 'Elentra',\n",
              " 'Year': 1990,\n",
              " 'Varients': {1: 'Hyundai Elantra VTVT S',\n",
              "  2: 'Hyundai Elantra VTVT SX',\n",
              "  3: 'Hyundai Elantra CRDi SX'},\n",
              " 'color ': 'Blue'}"
            ]
          },
          "metadata": {},
          "execution_count": 63
        }
      ]
    },
    {
      "cell_type": "code",
      "source": [
        "Dict2.items() #The items() method returns a list of dict's (key, value) tuple pairs"
      ],
      "metadata": {
        "colab": {
          "base_uri": "https://localhost:8080/"
        },
        "id": "E-x2gBjOjm4G",
        "outputId": "45cfa0b8-26c8-4046-ba00-5c706ed371b2"
      },
      "execution_count": 64,
      "outputs": [
        {
          "output_type": "execute_result",
          "data": {
            "text/plain": [
              "dict_items([('name', 'Hyundai'), ('Model', 'Elentra'), ('Year', 1990), ('Varients', {1: 'Hyundai Elantra VTVT S', 2: 'Hyundai Elantra VTVT SX', 3: 'Hyundai Elantra CRDi SX'}), ('color ', 'Blue')])"
            ]
          },
          "metadata": {},
          "execution_count": 64
        }
      ]
    },
    {
      "cell_type": "code",
      "source": [
        "Dict2.keys() #The keys() method returns a list of all the keys in the dictionary"
      ],
      "metadata": {
        "colab": {
          "base_uri": "https://localhost:8080/"
        },
        "id": "fd_nIMDIj7vm",
        "outputId": "d2001694-33b2-4724-c502-f05134cb3ac3"
      },
      "execution_count": 65,
      "outputs": [
        {
          "output_type": "execute_result",
          "data": {
            "text/plain": [
              "dict_keys(['name', 'Model', 'Year', 'Varients', 'color '])"
            ]
          },
          "metadata": {},
          "execution_count": 65
        }
      ]
    },
    {
      "cell_type": "code",
      "source": [
        "Dict2.values() #The values() method returns a list of all the values in the dictionary"
      ],
      "metadata": {
        "colab": {
          "base_uri": "https://localhost:8080/"
        },
        "id": "e6xM0znZj-Wa",
        "outputId": "37def414-1eed-4a44-c324-85298ab1b110"
      },
      "execution_count": 66,
      "outputs": [
        {
          "output_type": "execute_result",
          "data": {
            "text/plain": [
              "dict_values(['Hyundai', 'Elentra', 1990, {1: 'Hyundai Elantra VTVT S', 2: 'Hyundai Elantra VTVT SX', 3: 'Hyundai Elantra CRDi SX'}, 'Blue'])"
            ]
          },
          "metadata": {},
          "execution_count": 66
        }
      ]
    }
  ]
}