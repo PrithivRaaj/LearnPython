{
  "nbformat": 4,
  "nbformat_minor": 0,
  "metadata": {
    "colab": {
      "provenance": []
    },
    "kernelspec": {
      "name": "python3",
      "display_name": "Python 3"
    },
    "language_info": {
      "name": "python"
    }
  },
  "cells": [
    {
      "cell_type": "markdown",
      "source": [
        "# Creating a List"
      ],
      "metadata": {
        "id": "tOIEmrETzN9B"
      }
    },
    {
      "cell_type": "code",
      "execution_count": null,
      "metadata": {
        "id": "xr2gL_-nDEfJ"
      },
      "outputs": [],
      "source": [
        "list1=[1,2,3,4,5,6,7,8]"
      ]
    },
    {
      "cell_type": "code",
      "source": [
        "list1"
      ],
      "metadata": {
        "id": "aj7NdB3YFC0M",
        "outputId": "0dcee299-4d39-439f-aa57-2a6450ab4896",
        "colab": {
          "base_uri": "https://localhost:8080/"
        }
      },
      "execution_count": null,
      "outputs": [
        {
          "output_type": "execute_result",
          "data": {
            "text/plain": [
              "[1, 2, 3, 4, 5, 6, 7, 8]"
            ]
          },
          "metadata": {},
          "execution_count": 2
        }
      ]
    },
    {
      "cell_type": "code",
      "source": [
        "N = list(map(int, input().split(',')))"
      ],
      "metadata": {
        "id": "wimthq4aFEFC",
        "colab": {
          "base_uri": "https://localhost:8080/"
        },
        "outputId": "6ac07681-3752-4965-ff39-5de1c24e97a9"
      },
      "execution_count": 4,
      "outputs": [
        {
          "name": "stdout",
          "output_type": "stream",
          "text": [
            "10,20,30,40,50\n"
          ]
        }
      ]
    },
    {
      "cell_type": "code",
      "source": [
        "N"
      ],
      "metadata": {
        "colab": {
          "base_uri": "https://localhost:8080/"
        },
        "id": "SGo_8vYSyvMV",
        "outputId": "0b793779-8543-436f-a7f4-11e241e0b3f4"
      },
      "execution_count": 5,
      "outputs": [
        {
          "output_type": "execute_result",
          "data": {
            "text/plain": [
              "[10, 20, 30, 40, 50]"
            ]
          },
          "metadata": {},
          "execution_count": 5
        }
      ]
    },
    {
      "cell_type": "markdown",
      "source": [
        "# Accessing elements from the List"
      ],
      "metadata": {
        "id": "rEPUU7UJzWSa"
      }
    },
    {
      "cell_type": "code",
      "source": [
        "lst=[100,200,300,400,500]"
      ],
      "metadata": {
        "id": "wB4mb7X6y3RX"
      },
      "execution_count": 6,
      "outputs": []
    },
    {
      "cell_type": "code",
      "source": [
        "lst"
      ],
      "metadata": {
        "colab": {
          "base_uri": "https://localhost:8080/"
        },
        "id": "8PY3wdHYzklg",
        "outputId": "ee5e5b2c-2fba-4601-b2cf-2f174a81989c"
      },
      "execution_count": 7,
      "outputs": [
        {
          "output_type": "execute_result",
          "data": {
            "text/plain": [
              "[100, 200, 300, 400, 500]"
            ]
          },
          "metadata": {},
          "execution_count": 7
        }
      ]
    },
    {
      "cell_type": "code",
      "source": [
        "lst[0]"
      ],
      "metadata": {
        "colab": {
          "base_uri": "https://localhost:8080/"
        },
        "id": "9KRbwz22zlGP",
        "outputId": "3ea5fda3-3cb4-47fa-cd9a-a649982f8fad"
      },
      "execution_count": 8,
      "outputs": [
        {
          "output_type": "execute_result",
          "data": {
            "text/plain": [
              "100"
            ]
          },
          "metadata": {},
          "execution_count": 8
        }
      ]
    },
    {
      "cell_type": "code",
      "source": [
        "lst[-1] # Negative indexing"
      ],
      "metadata": {
        "colab": {
          "base_uri": "https://localhost:8080/"
        },
        "id": "fS7olUQxzn4A",
        "outputId": "3296e864-34fa-4fa7-eb74-43ed33e9babd"
      },
      "execution_count": 9,
      "outputs": [
        {
          "output_type": "execute_result",
          "data": {
            "text/plain": [
              "500"
            ]
          },
          "metadata": {},
          "execution_count": 9
        }
      ]
    },
    {
      "cell_type": "code",
      "source": [
        "lst[4] # Positive indexing"
      ],
      "metadata": {
        "colab": {
          "base_uri": "https://localhost:8080/"
        },
        "id": "fIPpaQ3xzpGf",
        "outputId": "863f108d-73fd-459c-904b-79f97fb9ef7b"
      },
      "execution_count": 11,
      "outputs": [
        {
          "output_type": "execute_result",
          "data": {
            "text/plain": [
              "500"
            ]
          },
          "metadata": {},
          "execution_count": 11
        }
      ]
    },
    {
      "cell_type": "code",
      "source": [
        "lst.append([10,20,30])"
      ],
      "metadata": {
        "id": "JSmEH2Iqzw4_"
      },
      "execution_count": 12,
      "outputs": []
    },
    {
      "cell_type": "code",
      "source": [
        "lst # Nested List"
      ],
      "metadata": {
        "colab": {
          "base_uri": "https://localhost:8080/"
        },
        "id": "-1SA5suMz79p",
        "outputId": "fee5e739-a558-4621-ed1d-9eca3f989206"
      },
      "execution_count": 13,
      "outputs": [
        {
          "output_type": "execute_result",
          "data": {
            "text/plain": [
              "[100, 200, 300, 400, 500, [10, 20, 30]]"
            ]
          },
          "metadata": {},
          "execution_count": 13
        }
      ]
    },
    {
      "cell_type": "code",
      "source": [
        "lst[5][2] # Accessing element from nested list"
      ],
      "metadata": {
        "colab": {
          "base_uri": "https://localhost:8080/"
        },
        "id": "R6PL6srWz9nE",
        "outputId": "39d2beca-90e5-4db4-ba6a-a9eefa952e71"
      },
      "execution_count": 14,
      "outputs": [
        {
          "output_type": "execute_result",
          "data": {
            "text/plain": [
              "30"
            ]
          },
          "metadata": {},
          "execution_count": 14
        }
      ]
    },
    {
      "cell_type": "code",
      "source": [
        "lst[5][-2]"
      ],
      "metadata": {
        "colab": {
          "base_uri": "https://localhost:8080/"
        },
        "id": "guCyUIdh0Bnm",
        "outputId": "3ba32346-7eda-4c4c-d3ce-910228cdeb36"
      },
      "execution_count": 15,
      "outputs": [
        {
          "output_type": "execute_result",
          "data": {
            "text/plain": [
              "20"
            ]
          },
          "metadata": {},
          "execution_count": 15
        }
      ]
    },
    {
      "cell_type": "markdown",
      "source": [
        "# Getting the size of Python list"
      ],
      "metadata": {
        "id": "lg4doDVO0Qt8"
      }
    },
    {
      "cell_type": "code",
      "source": [
        "len(lst)"
      ],
      "metadata": {
        "colab": {
          "base_uri": "https://localhost:8080/"
        },
        "id": "wOFfuENb0NFp",
        "outputId": "56a221a9-6318-4646-bccb-bdfb6c07a11a"
      },
      "execution_count": 16,
      "outputs": [
        {
          "output_type": "execute_result",
          "data": {
            "text/plain": [
              "6"
            ]
          },
          "metadata": {},
          "execution_count": 16
        }
      ]
    },
    {
      "cell_type": "markdown",
      "source": [
        "# Adding Elements to a Python List"
      ],
      "metadata": {
        "id": "KkUqQi1X0w9B"
      }
    },
    {
      "cell_type": "code",
      "source": [
        "L=[10,20,30,40]\n"
      ],
      "metadata": {
        "id": "FB2o71Bv0TjW"
      },
      "execution_count": 43,
      "outputs": []
    },
    {
      "cell_type": "code",
      "source": [
        "L"
      ],
      "metadata": {
        "colab": {
          "base_uri": "https://localhost:8080/"
        },
        "id": "V2MbaGWt0393",
        "outputId": "3c9c1ec5-0f4f-4bfa-c2d3-da463688d619"
      },
      "execution_count": 44,
      "outputs": [
        {
          "output_type": "execute_result",
          "data": {
            "text/plain": [
              "[10, 20, 30, 40]"
            ]
          },
          "metadata": {},
          "execution_count": 44
        }
      ]
    },
    {
      "cell_type": "code",
      "source": [
        "L.append(50) # Method 1 using append() function"
      ],
      "metadata": {
        "id": "X5CM4DIM04Zs"
      },
      "execution_count": 45,
      "outputs": []
    },
    {
      "cell_type": "code",
      "source": [
        "L"
      ],
      "metadata": {
        "colab": {
          "base_uri": "https://localhost:8080/"
        },
        "id": "1FQPCiUU09yO",
        "outputId": "9171b4a6-d65d-4749-b88f-1c6ef9651f3f"
      },
      "execution_count": 46,
      "outputs": [
        {
          "output_type": "execute_result",
          "data": {
            "text/plain": [
              "[10, 20, 30, 40, 50]"
            ]
          },
          "metadata": {},
          "execution_count": 46
        }
      ]
    },
    {
      "cell_type": "code",
      "source": [
        "# Addition of Element at specific Position\n",
        "L.insert(4,60) # Here we insert 60 in 4th index"
      ],
      "metadata": {
        "id": "lDvznoj01Ott"
      },
      "execution_count": 47,
      "outputs": []
    },
    {
      "cell_type": "code",
      "source": [
        "L"
      ],
      "metadata": {
        "colab": {
          "base_uri": "https://localhost:8080/"
        },
        "id": "68kPiAWG2Biy",
        "outputId": "d88f1aa8-e9b4-4fff-b84f-f6b3890cccf4"
      },
      "execution_count": 48,
      "outputs": [
        {
          "output_type": "execute_result",
          "data": {
            "text/plain": [
              "[10, 20, 30, 40, 60, 50]"
            ]
          },
          "metadata": {},
          "execution_count": 48
        }
      ]
    },
    {
      "cell_type": "code",
      "source": [
        "# Addition of multiple elements to the List at the end\n",
        "L.extend([70,80,90,100])"
      ],
      "metadata": {
        "id": "AaL2vKf92CPW"
      },
      "execution_count": 49,
      "outputs": []
    },
    {
      "cell_type": "code",
      "source": [
        "L"
      ],
      "metadata": {
        "colab": {
          "base_uri": "https://localhost:8080/"
        },
        "id": "zsLsG50B2N3G",
        "outputId": "b8bcf3c6-8039-4568-9ae9-011ea81989a0"
      },
      "execution_count": 50,
      "outputs": [
        {
          "output_type": "execute_result",
          "data": {
            "text/plain": [
              "[10, 20, 30, 40, 60, 50, 70, 80, 90, 100]"
            ]
          },
          "metadata": {},
          "execution_count": 50
        }
      ]
    },
    {
      "cell_type": "markdown",
      "source": [
        "# Reversing a List"
      ],
      "metadata": {
        "id": "KwnJS3Le2YE4"
      }
    },
    {
      "cell_type": "code",
      "source": [
        "L.reverse() # Using reverse() function"
      ],
      "metadata": {
        "id": "EKyukCL92qHU"
      },
      "execution_count": 61,
      "outputs": []
    },
    {
      "cell_type": "code",
      "source": [
        "L"
      ],
      "metadata": {
        "colab": {
          "base_uri": "https://localhost:8080/"
        },
        "id": "r55f9XEB3OPp",
        "outputId": "6576636f-b940-4217-8672-1495ad9d44ac"
      },
      "execution_count": 62,
      "outputs": [
        {
          "output_type": "execute_result",
          "data": {
            "text/plain": [
              "[100, 90, 80, 70, 50, 60, 40, 30, 20, 10]"
            ]
          },
          "metadata": {},
          "execution_count": 62
        }
      ]
    },
    {
      "cell_type": "code",
      "source": [
        "l=list(reversed(L)) # Using reversed() function"
      ],
      "metadata": {
        "id": "iSB8vMuV3eG6"
      },
      "execution_count": 63,
      "outputs": []
    },
    {
      "cell_type": "code",
      "source": [
        "l"
      ],
      "metadata": {
        "colab": {
          "base_uri": "https://localhost:8080/"
        },
        "id": "RUbw7ef13jod",
        "outputId": "850cf1e5-e13f-4156-e0e1-a9156b39addb"
      },
      "execution_count": 64,
      "outputs": [
        {
          "output_type": "execute_result",
          "data": {
            "text/plain": [
              "[10, 20, 30, 40, 60, 50, 70, 80, 90, 100]"
            ]
          },
          "metadata": {},
          "execution_count": 64
        }
      ]
    },
    {
      "cell_type": "code",
      "source": [
        "l[::-1] # Usinf slicing method"
      ],
      "metadata": {
        "colab": {
          "base_uri": "https://localhost:8080/"
        },
        "id": "AVSk094o3kQJ",
        "outputId": "c0dd6ba8-343b-4d27-96a3-68418fbec57b"
      },
      "execution_count": 65,
      "outputs": [
        {
          "output_type": "execute_result",
          "data": {
            "text/plain": [
              "[100, 90, 80, 70, 50, 60, 40, 30, 20, 10]"
            ]
          },
          "metadata": {},
          "execution_count": 65
        }
      ]
    },
    {
      "cell_type": "markdown",
      "source": [
        "# Removing Elements from the List"
      ],
      "metadata": {
        "id": "B424E5aL39bJ"
      }
    },
    {
      "cell_type": "code",
      "source": [
        "L1=[100,200,300,400,500,600]"
      ],
      "metadata": {
        "id": "8XRfzPSP3tdr"
      },
      "execution_count": 69,
      "outputs": []
    },
    {
      "cell_type": "code",
      "source": [
        "L1"
      ],
      "metadata": {
        "colab": {
          "base_uri": "https://localhost:8080/"
        },
        "id": "cOhttmCS4ESx",
        "outputId": "13a1912b-f7d9-45e5-bcb8-1a5a8767145f"
      },
      "execution_count": 70,
      "outputs": [
        {
          "output_type": "execute_result",
          "data": {
            "text/plain": [
              "[100, 200, 300, 400, 500, 600]"
            ]
          },
          "metadata": {},
          "execution_count": 70
        }
      ]
    },
    {
      "cell_type": "code",
      "source": [
        "L1.remove(200) # removes specified element"
      ],
      "metadata": {
        "id": "Mx19B15J4FA1"
      },
      "execution_count": 71,
      "outputs": []
    },
    {
      "cell_type": "code",
      "source": [
        "L1"
      ],
      "metadata": {
        "colab": {
          "base_uri": "https://localhost:8080/"
        },
        "id": "P3ojikQb4RLx",
        "outputId": "7ea60f8d-f4ff-4fe4-bce2-df56aff69919"
      },
      "execution_count": 72,
      "outputs": [
        {
          "output_type": "execute_result",
          "data": {
            "text/plain": [
              "[100, 300, 400, 500, 600]"
            ]
          },
          "metadata": {},
          "execution_count": 72
        }
      ]
    },
    {
      "cell_type": "code",
      "source": [
        "print(L1.pop()) # return last element from the list"
      ],
      "metadata": {
        "colab": {
          "base_uri": "https://localhost:8080/"
        },
        "id": "XOePHGls4Rsn",
        "outputId": "f1542b6b-80b7-482b-d308-fed43791daab"
      },
      "execution_count": 73,
      "outputs": [
        {
          "output_type": "stream",
          "name": "stdout",
          "text": [
            "600\n"
          ]
        }
      ]
    },
    {
      "cell_type": "markdown",
      "source": [
        "# Slicing of a List"
      ],
      "metadata": {
        "id": "iW-EfZw84qLn"
      }
    },
    {
      "cell_type": "code",
      "source": [
        "L2=[90,91,92,93,94,95,96]"
      ],
      "metadata": {
        "id": "1vds-WY84aN_"
      },
      "execution_count": 80,
      "outputs": []
    },
    {
      "cell_type": "code",
      "source": [
        "L2"
      ],
      "metadata": {
        "colab": {
          "base_uri": "https://localhost:8080/"
        },
        "id": "los5VtGm5NSA",
        "outputId": "3ddec3be-e8a3-4041-a79e-48bc39019c1e"
      },
      "execution_count": 81,
      "outputs": [
        {
          "output_type": "execute_result",
          "data": {
            "text/plain": [
              "[90, 91, 92, 93, 94, 95, 96]"
            ]
          },
          "metadata": {},
          "execution_count": 81
        }
      ]
    },
    {
      "cell_type": "code",
      "source": [
        "# To print elements from beginning to a range\n",
        "L2[0:]"
      ],
      "metadata": {
        "colab": {
          "base_uri": "https://localhost:8080/"
        },
        "id": "DT66AdHa5N2R",
        "outputId": "98dabaf5-3604-464a-9ad4-1f5fb085cbba"
      },
      "execution_count": 82,
      "outputs": [
        {
          "output_type": "execute_result",
          "data": {
            "text/plain": [
              "[90, 91, 92, 93, 94, 95, 96]"
            ]
          },
          "metadata": {},
          "execution_count": 82
        }
      ]
    },
    {
      "cell_type": "code",
      "source": [
        "L2[0:3]"
      ],
      "metadata": {
        "colab": {
          "base_uri": "https://localhost:8080/"
        },
        "id": "RCujlfDM5R--",
        "outputId": "e4c8382d-ced0-44bf-a3f0-ec6bdc0b276b"
      },
      "execution_count": 84,
      "outputs": [
        {
          "output_type": "execute_result",
          "data": {
            "text/plain": [
              "[90, 91, 92]"
            ]
          },
          "metadata": {},
          "execution_count": 84
        }
      ]
    },
    {
      "cell_type": "code",
      "source": [
        "L2[3:6]"
      ],
      "metadata": {
        "colab": {
          "base_uri": "https://localhost:8080/"
        },
        "id": "P0LkWdTg5YGf",
        "outputId": "4cb60452-6d8c-43ba-e6f3-200c9d6f59f6"
      },
      "execution_count": 85,
      "outputs": [
        {
          "output_type": "execute_result",
          "data": {
            "text/plain": [
              "[93, 94, 95]"
            ]
          },
          "metadata": {},
          "execution_count": 85
        }
      ]
    },
    {
      "cell_type": "code",
      "source": [
        "L2[0:7:2]"
      ],
      "metadata": {
        "colab": {
          "base_uri": "https://localhost:8080/"
        },
        "id": "PZnTFcfb6Erx",
        "outputId": "236299fb-4224-401b-8928-cd961e6cfaed"
      },
      "execution_count": 87,
      "outputs": [
        {
          "output_type": "execute_result",
          "data": {
            "text/plain": [
              "[90, 92, 94, 96]"
            ]
          },
          "metadata": {},
          "execution_count": 87
        }
      ]
    },
    {
      "cell_type": "code",
      "source": [
        "L2[-1:-8:-1]"
      ],
      "metadata": {
        "colab": {
          "base_uri": "https://localhost:8080/"
        },
        "id": "QIz9Ym1Z6KI8",
        "outputId": "d3b409dc-698a-4bcb-d388-1d3fdfe5a457"
      },
      "execution_count": 93,
      "outputs": [
        {
          "output_type": "execute_result",
          "data": {
            "text/plain": [
              "[96, 95, 94, 93, 92, 91, 90]"
            ]
          },
          "metadata": {},
          "execution_count": 93
        }
      ]
    },
    {
      "cell_type": "code",
      "source": [
        "L2[-7:-1]"
      ],
      "metadata": {
        "colab": {
          "base_uri": "https://localhost:8080/"
        },
        "id": "Mlfbde9j6V0G",
        "outputId": "b411de62-7561-4c22-9618-4c89cfaba88c"
      },
      "execution_count": 94,
      "outputs": [
        {
          "output_type": "execute_result",
          "data": {
            "text/plain": [
              "[90, 91, 92, 93, 94, 95]"
            ]
          },
          "metadata": {},
          "execution_count": 94
        }
      ]
    },
    {
      "cell_type": "code",
      "source": [
        "L2[::-1] # Reversing"
      ],
      "metadata": {
        "colab": {
          "base_uri": "https://localhost:8080/"
        },
        "id": "5CT-_sPb6lRZ",
        "outputId": "714d6963-c7f5-4e1f-a14b-1c429cab22bf"
      },
      "execution_count": 95,
      "outputs": [
        {
          "output_type": "execute_result",
          "data": {
            "text/plain": [
              "[96, 95, 94, 93, 92, 91, 90]"
            ]
          },
          "metadata": {},
          "execution_count": 95
        }
      ]
    },
    {
      "cell_type": "markdown",
      "source": [
        "# List Comprehension"
      ],
      "metadata": {
        "id": "35vJPlTK6ysw"
      }
    },
    {
      "cell_type": "code",
      "source": [
        "List2=[x for x in range(1,10)]"
      ],
      "metadata": {
        "id": "WOm0ZdcF6ufm"
      },
      "execution_count": 96,
      "outputs": []
    },
    {
      "cell_type": "code",
      "source": [
        "List2"
      ],
      "metadata": {
        "colab": {
          "base_uri": "https://localhost:8080/"
        },
        "id": "wBOSBLfw6_Oi",
        "outputId": "91ca909d-8759-41a3-d4db-5961a5e2dd06"
      },
      "execution_count": 97,
      "outputs": [
        {
          "output_type": "execute_result",
          "data": {
            "text/plain": [
              "[1, 2, 3, 4, 5, 6, 7, 8, 9]"
            ]
          },
          "metadata": {},
          "execution_count": 97
        }
      ]
    },
    {
      "cell_type": "code",
      "source": [
        "List3=[x**2 for x in range(1,11)]"
      ],
      "metadata": {
        "id": "WaHi1-SH7ANB"
      },
      "execution_count": 98,
      "outputs": []
    },
    {
      "cell_type": "code",
      "source": [
        "List3"
      ],
      "metadata": {
        "colab": {
          "base_uri": "https://localhost:8080/"
        },
        "id": "jEBHB8ZD7H-5",
        "outputId": "e404e976-fda5-4989-fc44-8e00b5335037"
      },
      "execution_count": 100,
      "outputs": [
        {
          "output_type": "execute_result",
          "data": {
            "text/plain": [
              "[1, 4, 9, 16, 25, 36, 49, 64, 81, 100]"
            ]
          },
          "metadata": {},
          "execution_count": 100
        }
      ]
    },
    {
      "cell_type": "markdown",
      "source": [
        "# Heterogenous lists"
      ],
      "metadata": {
        "id": "-WxLAwxJ7Q1H"
      }
    },
    {
      "cell_type": "code",
      "source": [
        "# A list with different datatype is known as heterogenous list\n",
        "L1=[100,99.99,\"Hello\",101]\n",
        "L1"
      ],
      "metadata": {
        "colab": {
          "base_uri": "https://localhost:8080/"
        },
        "id": "U1AxKrat7JBK",
        "outputId": "ee774dcc-70bd-49ad-c50d-85b884fcd196"
      },
      "execution_count": 105,
      "outputs": [
        {
          "output_type": "execute_result",
          "data": {
            "text/plain": [
              "[100, 99.99, 'Hello', 101]"
            ]
          },
          "metadata": {},
          "execution_count": 105
        }
      ]
    },
    {
      "cell_type": "markdown",
      "source": [
        "2-D List"
      ],
      "metadata": {
        "id": "_kinIG5e_Ze7"
      }
    },
    {
      "cell_type": "code",
      "source": [
        "l4=[[1,2,3],[4,5,6],[7,8,9]]"
      ],
      "metadata": {
        "id": "bbQNPRHD_ZGc"
      },
      "execution_count": 106,
      "outputs": []
    },
    {
      "cell_type": "code",
      "source": [
        "l4"
      ],
      "metadata": {
        "colab": {
          "base_uri": "https://localhost:8080/"
        },
        "id": "RzaYrp45ADlJ",
        "outputId": "4d25205a-0c6f-40c7-b9ba-fd36183b8c08"
      },
      "execution_count": 107,
      "outputs": [
        {
          "output_type": "execute_result",
          "data": {
            "text/plain": [
              "[[1, 2, 3], [4, 5, 6], [7, 8, 9]]"
            ]
          },
          "metadata": {},
          "execution_count": 107
        }
      ]
    }
  ]
}