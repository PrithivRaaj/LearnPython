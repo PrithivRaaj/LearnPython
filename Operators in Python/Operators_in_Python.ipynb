{
  "nbformat": 4,
  "nbformat_minor": 0,
  "metadata": {
    "colab": {
      "provenance": []
    },
    "kernelspec": {
      "name": "python3",
      "display_name": "Python 3"
    },
    "language_info": {
      "name": "python"
    }
  },
  "cells": [
    {
      "cell_type": "markdown",
      "source": [
        "# Operators and Operands"
      ],
      "metadata": {
        "id": "3h3_GGZBljZY"
      }
    },
    {
      "cell_type": "markdown",
      "source": [
        "# Arithmetic Operators\n"
      ],
      "metadata": {
        "id": "gdBedBqemL97"
      }
    },
    {
      "cell_type": "code",
      "execution_count": 1,
      "metadata": {
        "id": "mCT9VHplay4A"
      },
      "outputs": [],
      "source": [
        "a=10\n",
        "b=20"
      ]
    },
    {
      "cell_type": "code",
      "source": [
        "print(a+b)#sum of two numbers"
      ],
      "metadata": {
        "colab": {
          "base_uri": "https://localhost:8080/"
        },
        "id": "y4QjVhhhmbJ0",
        "outputId": "7072fb28-f4bd-4114-ca6b-477930c8cbbe"
      },
      "execution_count": 3,
      "outputs": [
        {
          "output_type": "stream",
          "name": "stdout",
          "text": [
            "30\n"
          ]
        }
      ]
    },
    {
      "cell_type": "code",
      "source": [
        "print(b-a)#difference of two numbers"
      ],
      "metadata": {
        "colab": {
          "base_uri": "https://localhost:8080/"
        },
        "id": "QXZQhL9pmgo7",
        "outputId": "b3a827f0-ab03-4366-b79e-3853e9e26fdf"
      },
      "execution_count": 4,
      "outputs": [
        {
          "output_type": "stream",
          "name": "stdout",
          "text": [
            "10\n"
          ]
        }
      ]
    },
    {
      "cell_type": "code",
      "source": [
        "print(a*b)#product of two numbers"
      ],
      "metadata": {
        "colab": {
          "base_uri": "https://localhost:8080/"
        },
        "id": "5bRaRZwHmn89",
        "outputId": "6fb8e8e1-d0e3-422d-a5df-07bb30a39023"
      },
      "execution_count": 5,
      "outputs": [
        {
          "output_type": "stream",
          "name": "stdout",
          "text": [
            "200\n"
          ]
        }
      ]
    },
    {
      "cell_type": "code",
      "source": [
        "print(a/b)#The quotient returned by this operator is always a float number, no matter if two numbers are integers."
      ],
      "metadata": {
        "colab": {
          "base_uri": "https://localhost:8080/"
        },
        "id": "gfGyKiO9mp-O",
        "outputId": "7ea5fbda-562b-4e4b-b80e-4f59341bf2cd"
      },
      "execution_count": 6,
      "outputs": [
        {
          "output_type": "stream",
          "name": "stdout",
          "text": [
            "0.5\n"
          ]
        }
      ]
    },
    {
      "cell_type": "code",
      "source": [
        "print(b/a)#The quotient returned by this operator is always a float number, no matter if two numbers are integers."
      ],
      "metadata": {
        "colab": {
          "base_uri": "https://localhost:8080/"
        },
        "id": "QqEnwxLhmsQ1",
        "outputId": "3a8c1f16-7181-4ae5-d072-804db5f9069f"
      },
      "execution_count": 7,
      "outputs": [
        {
          "output_type": "stream",
          "name": "stdout",
          "text": [
            "2.0\n"
          ]
        }
      ]
    },
    {
      "cell_type": "markdown",
      "source": [
        "#floor devision\n",
        "The quotient returned by this operator is dependent on the argument being passed. If any of the numbers is float, it returns output in float. It is also known as Floor division because, if any number is negative, then the output will be floored"
      ],
      "metadata": {
        "id": "Rph0GMGZnyr1"
      }
    },
    {
      "cell_type": "code",
      "source": [
        "print(b//a)"
      ],
      "metadata": {
        "colab": {
          "base_uri": "https://localhost:8080/"
        },
        "id": "_r_UwjthmwSB",
        "outputId": "1e5c1d86-01cb-40bd-b26f-e216c67dcfa3"
      },
      "execution_count": 8,
      "outputs": [
        {
          "output_type": "stream",
          "name": "stdout",
          "text": [
            "2\n"
          ]
        }
      ]
    },
    {
      "cell_type": "code",
      "source": [
        "print(b%a)#modulus returns the remainder when the first operand is divided by the second"
      ],
      "metadata": {
        "colab": {
          "base_uri": "https://localhost:8080/"
        },
        "id": "96G1OMe2mzxF",
        "outputId": "477a8af7-0861-4263-8e84-c5a68e245adc"
      },
      "execution_count": 9,
      "outputs": [
        {
          "output_type": "stream",
          "name": "stdout",
          "text": [
            "0\n"
          ]
        }
      ]
    },
    {
      "cell_type": "code",
      "source": [
        "print(a%b)#modulus returns the remainder when the first operand is divided by the second"
      ],
      "metadata": {
        "colab": {
          "base_uri": "https://localhost:8080/"
        },
        "id": "gSKF2BP0m4tI",
        "outputId": "675deaac-6209-4867-e37d-97ddccb6c65e"
      },
      "execution_count": 10,
      "outputs": [
        {
          "output_type": "stream",
          "name": "stdout",
          "text": [
            "10\n"
          ]
        }
      ]
    },
    {
      "cell_type": "code",
      "source": [
        "x=4\n",
        "y=2\n",
        "print(x**y)#raises x to the power of ‘y"
      ],
      "metadata": {
        "colab": {
          "base_uri": "https://localhost:8080/"
        },
        "id": "_w5co29jm9VC",
        "outputId": "c50b483b-ce25-4f62-9524-05163fe511fd"
      },
      "execution_count": 13,
      "outputs": [
        {
          "output_type": "stream",
          "name": "stdout",
          "text": [
            "16\n"
          ]
        }
      ]
    },
    {
      "cell_type": "markdown",
      "source": [
        "# Comparison operators"
      ],
      "metadata": {
        "id": "Nf0Jxj9YomKA"
      }
    },
    {
      "cell_type": "code",
      "source": [
        "a = 13\n",
        "b = 33"
      ],
      "metadata": {
        "id": "99efOPJzoNbo"
      },
      "execution_count": 14,
      "outputs": []
    },
    {
      "cell_type": "code",
      "source": [
        "print(a > b)#Greater than: True if the left operand is greater than the right"
      ],
      "metadata": {
        "colab": {
          "base_uri": "https://localhost:8080/"
        },
        "id": "xy-1zW6wsK0a",
        "outputId": "5c04e891-632e-4777-b44f-f54e2d599ed0"
      },
      "execution_count": 15,
      "outputs": [
        {
          "output_type": "stream",
          "name": "stdout",
          "text": [
            "False\n"
          ]
        }
      ]
    },
    {
      "cell_type": "code",
      "source": [
        "print(a < b)#Less than: True if the left operand is less than the right"
      ],
      "metadata": {
        "colab": {
          "base_uri": "https://localhost:8080/"
        },
        "id": "Efk4JknWsNb8",
        "outputId": "b54b8f19-0b1c-4a2f-ac07-894cd76cd7c0"
      },
      "execution_count": 16,
      "outputs": [
        {
          "output_type": "stream",
          "name": "stdout",
          "text": [
            "True\n"
          ]
        }
      ]
    },
    {
      "cell_type": "code",
      "source": [
        "print(a == b)#Equal to: True if both operands are equal"
      ],
      "metadata": {
        "colab": {
          "base_uri": "https://localhost:8080/"
        },
        "id": "bYyWBPjPsQ0-",
        "outputId": "8808b31b-1c3a-4e84-ab01-1f8a0cc73199"
      },
      "execution_count": 17,
      "outputs": [
        {
          "output_type": "stream",
          "name": "stdout",
          "text": [
            "False\n"
          ]
        }
      ]
    },
    {
      "cell_type": "code",
      "source": [
        "print(a != b)#Not equal to: True if operands are not equal"
      ],
      "metadata": {
        "colab": {
          "base_uri": "https://localhost:8080/"
        },
        "id": "J1PxeosesTpm",
        "outputId": "25edbe99-2bb5-4ebd-b627-d09c91470cd0"
      },
      "execution_count": 18,
      "outputs": [
        {
          "output_type": "stream",
          "name": "stdout",
          "text": [
            "True\n"
          ]
        }
      ]
    },
    {
      "cell_type": "code",
      "source": [
        "print(a >= b)#Greater than or equal to True if the left operand is greater than or equal to the right"
      ],
      "metadata": {
        "colab": {
          "base_uri": "https://localhost:8080/"
        },
        "id": "o33YyHjvsV3h",
        "outputId": "b66fa755-043b-488a-adbd-28a8a7ae66c3"
      },
      "execution_count": 19,
      "outputs": [
        {
          "output_type": "stream",
          "name": "stdout",
          "text": [
            "False\n"
          ]
        }
      ]
    },
    {
      "cell_type": "code",
      "source": [
        "print(a <= b)#Less than or equal to True if the left operand is less than or equal to the right"
      ],
      "metadata": {
        "colab": {
          "base_uri": "https://localhost:8080/"
        },
        "id": "FF4_2b4JsX6l",
        "outputId": "8b38dc6c-0e35-4320-a00a-524eb05fa092"
      },
      "execution_count": 20,
      "outputs": [
        {
          "output_type": "stream",
          "name": "stdout",
          "text": [
            "True\n"
          ]
        }
      ]
    },
    {
      "cell_type": "markdown",
      "source": [
        "#Logical Operators"
      ],
      "metadata": {
        "id": "O2mPvR1Fs2Yl"
      }
    },
    {
      "cell_type": "code",
      "source": [
        "a = 1\n",
        "b = 0"
      ],
      "metadata": {
        "id": "GyMYiwOcsZGm"
      },
      "execution_count": 21,
      "outputs": []
    },
    {
      "cell_type": "code",
      "source": [
        "print(a and b)"
      ],
      "metadata": {
        "colab": {
          "base_uri": "https://localhost:8080/"
        },
        "id": "bV5aMIPgtIVm",
        "outputId": "1cdcf09d-ef45-4e85-e5af-f66565136bc0"
      },
      "execution_count": 22,
      "outputs": [
        {
          "output_type": "stream",
          "name": "stdout",
          "text": [
            "0\n"
          ]
        }
      ]
    },
    {
      "cell_type": "code",
      "source": [
        "print(a or b)"
      ],
      "metadata": {
        "colab": {
          "base_uri": "https://localhost:8080/"
        },
        "id": "55IPL0DCtMKq",
        "outputId": "7fd7c409-601f-443a-b74a-4c2bae20c9a4"
      },
      "execution_count": 23,
      "outputs": [
        {
          "output_type": "stream",
          "name": "stdout",
          "text": [
            "1\n"
          ]
        }
      ]
    },
    {
      "cell_type": "code",
      "source": [
        "print(not a)"
      ],
      "metadata": {
        "colab": {
          "base_uri": "https://localhost:8080/"
        },
        "id": "0d_FcCiKtSbc",
        "outputId": "c94071c1-fb0c-4225-fdfe-632ef5357702"
      },
      "execution_count": 24,
      "outputs": [
        {
          "output_type": "stream",
          "name": "stdout",
          "text": [
            "False\n"
          ]
        }
      ]
    },
    {
      "cell_type": "code",
      "source": [
        "a = True\n",
        "b = False\n",
        "print(a and b)\n",
        "print(a or b)\n",
        "print(not a)"
      ],
      "metadata": {
        "colab": {
          "base_uri": "https://localhost:8080/"
        },
        "id": "TJFdN9fltVGA",
        "outputId": "7c09b1c8-7e36-494f-dbf4-34f2a02a552a"
      },
      "execution_count": 25,
      "outputs": [
        {
          "output_type": "stream",
          "name": "stdout",
          "text": [
            "False\n",
            "True\n",
            "False\n"
          ]
        }
      ]
    },
    {
      "cell_type": "markdown",
      "source": [
        "Precedence of Logical Operators in Python\n",
        "\n",
        "Logical not\n",
        "\n",
        "logical and\n",
        "\n",
        "logical or"
      ],
      "metadata": {
        "id": "b2S7aFVf0mYb"
      }
    },
    {
      "cell_type": "markdown",
      "source": [
        "#Assignment Operators"
      ],
      "metadata": {
        "id": "j3BcmG73y3BU"
      }
    },
    {
      "cell_type": "code",
      "source": [
        "#Assign the value of the right side of the expression to the left side operand\n",
        "a = 10\n",
        "b = a\n",
        "print(b)\n",
        "b += a  #Add AND: Add right-side operand with left-side operand and then assign to left operand\n",
        "print(b)\n",
        "b -= a  #Subtract AND: Subtract right operand from left operand and then assign to left operand\n",
        "print(b)\n",
        "b *= a  #Multiply AND: Multiply right operand with left operand and then assign to left operand\n",
        "print(b)\n",
        "b <<= a #Performs Bitwise left shift on operands and assign value to left operand\n",
        "print(b)"
      ],
      "metadata": {
        "colab": {
          "base_uri": "https://localhost:8080/"
        },
        "id": "IxO-OtBvtY96",
        "outputId": "9566c145-bb3b-4bc6-d481-61c0d47fa1d7"
      },
      "execution_count": 26,
      "outputs": [
        {
          "output_type": "stream",
          "name": "stdout",
          "text": [
            "10\n",
            "20\n",
            "10\n",
            "100\n",
            "102400\n"
          ]
        }
      ]
    },
    {
      "cell_type": "markdown",
      "source": [
        "#Bitwise Operators\n"
      ],
      "metadata": {
        "id": "WnJhrdIv0uPF"
      }
    },
    {
      "cell_type": "code",
      "source": [
        "a = 10\n",
        "b = 4"
      ],
      "metadata": {
        "id": "yGFsKXlI0zKp"
      },
      "execution_count": 27,
      "outputs": []
    },
    {
      "cell_type": "code",
      "source": [
        "print(a & b)#Bitwise AND"
      ],
      "metadata": {
        "colab": {
          "base_uri": "https://localhost:8080/"
        },
        "id": "7jdnSHGs052B",
        "outputId": "8a3c2d60-f051-40eb-fb15-60984696058c"
      },
      "execution_count": 28,
      "outputs": [
        {
          "output_type": "stream",
          "name": "stdout",
          "text": [
            "0\n"
          ]
        }
      ]
    },
    {
      "cell_type": "code",
      "source": [
        "print(a | b)#Bitwise OR"
      ],
      "metadata": {
        "colab": {
          "base_uri": "https://localhost:8080/"
        },
        "id": "44r0NBxi07kX",
        "outputId": "7603cb67-cd2c-421f-cf7b-921742b64efc"
      },
      "execution_count": 29,
      "outputs": [
        {
          "output_type": "stream",
          "name": "stdout",
          "text": [
            "14\n"
          ]
        }
      ]
    },
    {
      "cell_type": "code",
      "source": [
        "print(~a)#Bitwise NOT"
      ],
      "metadata": {
        "colab": {
          "base_uri": "https://localhost:8080/"
        },
        "id": "ipWbJcpT09BR",
        "outputId": "c9d86f9a-ed80-487b-915c-fa94ed75e736"
      },
      "execution_count": 30,
      "outputs": [
        {
          "output_type": "stream",
          "name": "stdout",
          "text": [
            "-11\n"
          ]
        }
      ]
    },
    {
      "cell_type": "code",
      "source": [
        "print(a ^ b)#Bitwise XOR"
      ],
      "metadata": {
        "colab": {
          "base_uri": "https://localhost:8080/"
        },
        "id": "WIXzYZsW0-eS",
        "outputId": "4c9f1088-78d2-4278-c9e8-101029496f9f"
      },
      "execution_count": 31,
      "outputs": [
        {
          "output_type": "stream",
          "name": "stdout",
          "text": [
            "14\n"
          ]
        }
      ]
    },
    {
      "cell_type": "code",
      "source": [
        "print(a >> 2)#Bitwise right shift"
      ],
      "metadata": {
        "colab": {
          "base_uri": "https://localhost:8080/"
        },
        "id": "xcANA_ea1ABV",
        "outputId": "0fbfeaa7-e2a1-4c05-9edf-2afa6e755835"
      },
      "execution_count": 35,
      "outputs": [
        {
          "output_type": "stream",
          "name": "stdout",
          "text": [
            "2\n"
          ]
        }
      ]
    },
    {
      "cell_type": "code",
      "source": [
        "print(a << 2)#Bitwise left shift"
      ],
      "metadata": {
        "colab": {
          "base_uri": "https://localhost:8080/"
        },
        "id": "8NZ9TdOZ1BkQ",
        "outputId": "8e2609b7-07fb-4b71-ff06-7a8dab13c68a"
      },
      "execution_count": 36,
      "outputs": [
        {
          "output_type": "stream",
          "name": "stdout",
          "text": [
            "40\n"
          ]
        }
      ]
    },
    {
      "cell_type": "markdown",
      "source": [
        "#Identity Operators and Membership Operators"
      ],
      "metadata": {
        "id": "x4uZqHOX42Bg"
      }
    },
    {
      "cell_type": "code",
      "source": [
        "a = 10\n",
        "b = 20\n",
        "c = a\n",
        "\n",
        "print(a is not b)#  True if the operands are not identical\n",
        "print(a is c)#  True if the operands are identical"
      ],
      "metadata": {
        "colab": {
          "base_uri": "https://localhost:8080/"
        },
        "id": "t_QPmCm51B9D",
        "outputId": "e490e689-a762-4154-e0cd-4fae12cf3efb"
      },
      "execution_count": 37,
      "outputs": [
        {
          "output_type": "stream",
          "name": "stdout",
          "text": [
            "True\n",
            "True\n"
          ]
        }
      ]
    },
    {
      "cell_type": "code",
      "source": [
        "x = 24\n",
        "y = 20\n",
        "list = [10, 20, 30, 40, 50]\n",
        "\n",
        "if (x not in list):# True if value is not found in the sequence\n",
        "    print(\"x is NOT present in given list\")\n",
        "else:\n",
        "    print(\"x is present in given list\")\n",
        "\n",
        "if (y in list):# True if value is found in the sequence\n",
        "    print(\"y is present in given list\")\n",
        "else:\n",
        "    print(\"y is NOT present in given list\")"
      ],
      "metadata": {
        "colab": {
          "base_uri": "https://localhost:8080/"
        },
        "id": "te7_JJ075Cee",
        "outputId": "99cf850e-6bab-4a8f-ee42-69aba96e4f54"
      },
      "execution_count": 38,
      "outputs": [
        {
          "output_type": "stream",
          "name": "stdout",
          "text": [
            "x is NOT present in given list\n",
            "y is present in given list\n"
          ]
        }
      ]
    },
    {
      "cell_type": "code",
      "source": [],
      "metadata": {
        "id": "_ee9c50C5H0z"
      },
      "execution_count": null,
      "outputs": []
    }
  ]
}