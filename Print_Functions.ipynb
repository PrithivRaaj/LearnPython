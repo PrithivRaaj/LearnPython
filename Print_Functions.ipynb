{
  "nbformat": 4,
  "nbformat_minor": 0,
  "metadata": {
    "colab": {
      "provenance": [],
      "authorship_tag": "ABX9TyOvVOxRoOadc6Okzl5p5SQ/",
      "include_colab_link": true
    },
    "kernelspec": {
      "name": "python3",
      "display_name": "Python 3"
    },
    "language_info": {
      "name": "python"
    }
  },
  "cells": [
    {
      "cell_type": "markdown",
      "metadata": {
        "id": "view-in-github",
        "colab_type": "text"
      },
      "source": [
        "<a href=\"https://colab.research.google.com/github/PrithivRaaj/LearnPython/blob/main/Print_Functions.ipynb\" target=\"_parent\"><img src=\"https://colab.research.google.com/assets/colab-badge.svg\" alt=\"Open In Colab\"/></a>"
      ]
    },
    {
      "cell_type": "markdown",
      "source": [
        "# Print Function\n",
        "\n"
      ],
      "metadata": {
        "id": "HhwJx_H7TvvW"
      }
    },
    {
      "cell_type": "code",
      "execution_count": 1,
      "metadata": {
        "colab": {
          "base_uri": "https://localhost:8080/"
        },
        "id": "qyCMZFTKTpiv",
        "outputId": "15963107-7ea4-4244-e261-ae2ceb8a8bad"
      },
      "outputs": [
        {
          "output_type": "stream",
          "name": "stdout",
          "text": [
            "Hello, World!\n"
          ]
        }
      ],
      "source": [
        "print(\"Hello, World!\")"
      ]
    },
    {
      "cell_type": "markdown",
      "source": [
        "# Printing Multiple Values\n"
      ],
      "metadata": {
        "id": "HYRGHWuXT66J"
      }
    },
    {
      "cell_type": "code",
      "source": [
        "print(\"Hey\",\"Emma\",\"ssup\")"
      ],
      "metadata": {
        "colab": {
          "base_uri": "https://localhost:8080/"
        },
        "id": "pm3CNBw9T3O8",
        "outputId": "8fe1cab2-b4f5-41ec-fc3a-bfe760154e8b"
      },
      "execution_count": 2,
      "outputs": [
        {
          "output_type": "stream",
          "name": "stdout",
          "text": [
            "Hey Emma ssup\n"
          ]
        }
      ]
    },
    {
      "cell_type": "code",
      "source": [
        "print(\"Hello\",11,20.56)"
      ],
      "metadata": {
        "colab": {
          "base_uri": "https://localhost:8080/"
        },
        "id": "qEo8hEiWULd8",
        "outputId": "a3e1fc05-13a9-42af-fe0f-cfd9edb0c9ff"
      },
      "execution_count": 5,
      "outputs": [
        {
          "output_type": "stream",
          "name": "stdout",
          "text": [
            "Hello 11 20.56\n"
          ]
        }
      ]
    },
    {
      "cell_type": "code",
      "source": [
        "print?"
      ],
      "metadata": {
        "id": "rg6rNnePUWWN"
      },
      "execution_count": 6,
      "outputs": []
    },
    {
      "cell_type": "markdown",
      "source": [
        "Docstring:\n",
        "print(value, ..., sep=' ', end='\\n', file=sys.stdout, flush=False)\n",
        "\n",
        "Prints the values to a stream, or to sys.stdout by default.\n",
        "\n",
        "Optional keyword arguments:\n",
        "\n",
        "file:  a file-like object (stream); defaults to the current sys.stdout.\n",
        "\n",
        "sep:   string inserted between values, default a space.\n",
        "\n",
        "end:   string appended after the last value, default a newline.\n",
        "\n",
        "flush: whether to forcibly flush the stream.\n",
        "\n",
        "Type:      builtin_function_or_method"
      ],
      "metadata": {
        "id": "o8bQIET0UriU"
      }
    },
    {
      "cell_type": "code",
      "source": [
        "x=\"Hey Ram\"\n",
        "print(x)"
      ],
      "metadata": {
        "colab": {
          "base_uri": "https://localhost:8080/"
        },
        "id": "yhXZolOWUhPS",
        "outputId": "2987ddc6-fca7-4b5a-a7cb-3b9e50f47caf"
      },
      "execution_count": 7,
      "outputs": [
        {
          "output_type": "stream",
          "name": "stdout",
          "text": [
            "Hey Ram\n"
          ]
        }
      ]
    },
    {
      "cell_type": "markdown",
      "source": [
        "# working with end and Separator functions"
      ],
      "metadata": {
        "id": "BjIWQ9Z3VFAr"
      }
    },
    {
      "cell_type": "code",
      "source": [
        "print(\"Rahul\",26,sep=\",\")"
      ],
      "metadata": {
        "colab": {
          "base_uri": "https://localhost:8080/"
        },
        "id": "DGd3XzLYU_g6",
        "outputId": "45a81118-a33c-46b5-ccc4-9e19f491401a"
      },
      "execution_count": 8,
      "outputs": [
        {
          "output_type": "stream",
          "name": "stdout",
          "text": [
            "Rahul,26\n"
          ]
        }
      ]
    },
    {
      "cell_type": "code",
      "source": [
        "print(\"Rahul\",26,sep=\"-->\")"
      ],
      "metadata": {
        "colab": {
          "base_uri": "https://localhost:8080/"
        },
        "id": "1m0etyojXdG6",
        "outputId": "f9a0f658-ceca-4873-e89c-5478d8287b0c"
      },
      "execution_count": 9,
      "outputs": [
        {
          "output_type": "stream",
          "name": "stdout",
          "text": [
            "Rahul-->26\n"
          ]
        }
      ]
    },
    {
      "cell_type": "code",
      "source": [
        "print(\"Rahul\",26,\"Ram\",36,sep=\"\\n\")"
      ],
      "metadata": {
        "colab": {
          "base_uri": "https://localhost:8080/"
        },
        "id": "ruAeDqSjXjFu",
        "outputId": "e0ade7ab-15e1-47cb-dc3f-24744f776637"
      },
      "execution_count": 16,
      "outputs": [
        {
          "output_type": "stream",
          "name": "stdout",
          "text": [
            "Rahul\n",
            "26\n",
            "Ram\n",
            "36\n"
          ]
        }
      ]
    },
    {
      "cell_type": "code",
      "source": [
        "print(\"Rahul\",26)\n",
        "print(\"Ram\",36)"
      ],
      "metadata": {
        "colab": {
          "base_uri": "https://localhost:8080/"
        },
        "id": "eEEgWuz5ZPzX",
        "outputId": "c6916460-2b3c-4268-9a94-efb94626ec3a"
      },
      "execution_count": 18,
      "outputs": [
        {
          "output_type": "stream",
          "name": "stdout",
          "text": [
            "Rahul 26\n",
            "Ram 36\n"
          ]
        }
      ]
    },
    {
      "cell_type": "code",
      "source": [
        "print(\"Rahul\",26,end=\" \")\n",
        "print(\"Ram\",36)"
      ],
      "metadata": {
        "colab": {
          "base_uri": "https://localhost:8080/"
        },
        "id": "sd21vqXGXn96",
        "outputId": "c93e5f45-6a68-4f00-bc0f-302fbc065766"
      },
      "execution_count": 17,
      "outputs": [
        {
          "output_type": "stream",
          "name": "stdout",
          "text": [
            "Rahul 26 Ram 36\n"
          ]
        }
      ]
    },
    {
      "cell_type": "code",
      "source": [
        "print(\"Rahul\",26,end=\",\")\n",
        "print(\"Ram\",36)"
      ],
      "metadata": {
        "colab": {
          "base_uri": "https://localhost:8080/"
        },
        "id": "cJD_PMK-ZSt2",
        "outputId": "61423842-8439-487d-8c65-477b84f7732b"
      },
      "execution_count": 20,
      "outputs": [
        {
          "output_type": "stream",
          "name": "stdout",
          "text": [
            "Rahul 26,Ram 36\n"
          ]
        }
      ]
    }
  ]
}