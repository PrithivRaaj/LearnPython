{
  "nbformat": 4,
  "nbformat_minor": 0,
  "metadata": {
    "colab": {
      "provenance": []
    },
    "kernelspec": {
      "name": "python3",
      "display_name": "Python 3"
    },
    "language_info": {
      "name": "python"
    }
  },
  "cells": [
    {
      "cell_type": "markdown",
      "source": [
        "# Creating a Tuple"
      ],
      "metadata": {
        "id": "UKbRswVT3fhJ"
      }
    },
    {
      "cell_type": "code",
      "execution_count": null,
      "metadata": {
        "id": "PvR4CaQhBHxy"
      },
      "outputs": [],
      "source": [
        "T=(1,2,3,4,5)"
      ]
    },
    {
      "cell_type": "code",
      "source": [
        "T"
      ],
      "metadata": {
        "colab": {
          "base_uri": "https://localhost:8080/"
        },
        "id": "GO6z3FI83qsa",
        "outputId": "b2592983-9f39-4a1b-8686-4a92f1b256b1"
      },
      "execution_count": null,
      "outputs": [
        {
          "output_type": "execute_result",
          "data": {
            "text/plain": [
              "(1, 2, 3, 4, 5)"
            ]
          },
          "metadata": {},
          "execution_count": 2
        }
      ]
    },
    {
      "cell_type": "code",
      "source": [
        "type(T)"
      ],
      "metadata": {
        "colab": {
          "base_uri": "https://localhost:8080/"
        },
        "id": "-W0nAVEk3x6w",
        "outputId": "9c44fed6-8be3-4038-e1e1-d1d1376f7ced"
      },
      "execution_count": null,
      "outputs": [
        {
          "output_type": "execute_result",
          "data": {
            "text/plain": [
              "tuple"
            ]
          },
          "metadata": {},
          "execution_count": 3
        }
      ]
    },
    {
      "cell_type": "code",
      "source": [
        "values:tuple[int | str,...]=(1,2,3,4,\"Hello\")\n",
        "values"
      ],
      "metadata": {
        "colab": {
          "base_uri": "https://localhost:8080/"
        },
        "id": "CRY6QRGc30W7",
        "outputId": "29fc0259-1a97-48ae-8398-33815b1a661a"
      },
      "execution_count": null,
      "outputs": [
        {
          "output_type": "execute_result",
          "data": {
            "text/plain": [
              "(1, 2, 3, 4, 'Hello')"
            ]
          },
          "metadata": {},
          "execution_count": 4
        }
      ]
    },
    {
      "cell_type": "code",
      "source": [
        "tuple_constructor = tuple((\"dsa\", \"developement\", \"deep learning\"))\n",
        "print(tuple_constructor)"
      ],
      "metadata": {
        "colab": {
          "base_uri": "https://localhost:8080/"
        },
        "id": "EtLVM3zQ4l-W",
        "outputId": "92f4aa92-63c0-44ae-b845-d6a22eeecdf7"
      },
      "execution_count": null,
      "outputs": [
        {
          "output_type": "stream",
          "name": "stdout",
          "text": [
            "('dsa', 'developement', 'deep learning')\n"
          ]
        }
      ]
    },
    {
      "cell_type": "markdown",
      "source": [
        "# Immutable in Tuples"
      ],
      "metadata": {
        "id": "HGI-fe456lae"
      }
    },
    {
      "cell_type": "code",
      "source": [
        "t=(1,2,3,4,5)"
      ],
      "metadata": {
        "id": "7pKftuvz5QdK"
      },
      "execution_count": null,
      "outputs": []
    },
    {
      "cell_type": "code",
      "source": [
        "t"
      ],
      "metadata": {
        "colab": {
          "base_uri": "https://localhost:8080/"
        },
        "id": "-U3vK3o58zin",
        "outputId": "ec6a5729-fcd2-46bc-c01b-a3c18c2f4cfd"
      },
      "execution_count": null,
      "outputs": [
        {
          "output_type": "execute_result",
          "data": {
            "text/plain": [
              "(1, 2, 3, 4, 5)"
            ]
          },
          "metadata": {},
          "execution_count": 7
        }
      ]
    },
    {
      "cell_type": "code",
      "source": [
        "t[3]"
      ],
      "metadata": {
        "colab": {
          "base_uri": "https://localhost:8080/"
        },
        "id": "p6wSp6i58z7m",
        "outputId": "f14d2e9e-c345-4ac5-d720-1b66a5989afb"
      },
      "execution_count": null,
      "outputs": [
        {
          "output_type": "execute_result",
          "data": {
            "text/plain": [
              "4"
            ]
          },
          "metadata": {},
          "execution_count": 8
        }
      ]
    },
    {
      "cell_type": "code",
      "source": [
        "t[3]=100"
      ],
      "metadata": {
        "colab": {
          "base_uri": "https://localhost:8080/",
          "height": 141
        },
        "id": "pDroZBG283Nx",
        "outputId": "11a2dcec-7416-44be-a4e9-6410a3dff09a"
      },
      "execution_count": null,
      "outputs": [
        {
          "output_type": "error",
          "ename": "TypeError",
          "evalue": "'tuple' object does not support item assignment",
          "traceback": [
            "\u001b[0;31m---------------------------------------------------------------------------\u001b[0m",
            "\u001b[0;31mTypeError\u001b[0m                                 Traceback (most recent call last)",
            "\u001b[0;32m<ipython-input-9-3502da552cce>\u001b[0m in \u001b[0;36m<cell line: 1>\u001b[0;34m()\u001b[0m\n\u001b[0;32m----> 1\u001b[0;31m \u001b[0mt\u001b[0m\u001b[0;34m[\u001b[0m\u001b[0;36m3\u001b[0m\u001b[0;34m]\u001b[0m\u001b[0;34m=\u001b[0m\u001b[0;36m100\u001b[0m\u001b[0;34m\u001b[0m\u001b[0;34m\u001b[0m\u001b[0m\n\u001b[0m",
            "\u001b[0;31mTypeError\u001b[0m: 'tuple' object does not support item assignment"
          ]
        }
      ]
    },
    {
      "cell_type": "markdown",
      "source": [
        "# Accessing Values in Python Tuples"
      ],
      "metadata": {
        "id": "2XBVhag-9D6R"
      }
    },
    {
      "cell_type": "code",
      "source": [
        "t"
      ],
      "metadata": {
        "colab": {
          "base_uri": "https://localhost:8080/"
        },
        "id": "5EuzmFJc8_ZA",
        "outputId": "f760d24e-dcee-4080-d1fd-466cc1f5b367"
      },
      "execution_count": null,
      "outputs": [
        {
          "output_type": "execute_result",
          "data": {
            "text/plain": [
              "(1, 2, 3, 4, 5)"
            ]
          },
          "metadata": {},
          "execution_count": 10
        }
      ]
    },
    {
      "cell_type": "code",
      "source": [
        "t[0] # Positive Indexing"
      ],
      "metadata": {
        "colab": {
          "base_uri": "https://localhost:8080/"
        },
        "id": "CF9SAzVB9JvM",
        "outputId": "30da353a-20d1-4eef-b676-86953a1cf0ed"
      },
      "execution_count": null,
      "outputs": [
        {
          "output_type": "execute_result",
          "data": {
            "text/plain": [
              "1"
            ]
          },
          "metadata": {},
          "execution_count": 11
        }
      ]
    },
    {
      "cell_type": "code",
      "source": [
        "t[2] # Positive Indexing"
      ],
      "metadata": {
        "colab": {
          "base_uri": "https://localhost:8080/"
        },
        "id": "ngOIuzVp9LM3",
        "outputId": "37160c5b-7084-458a-9468-9fd5f635b8ad"
      },
      "execution_count": null,
      "outputs": [
        {
          "output_type": "execute_result",
          "data": {
            "text/plain": [
              "3"
            ]
          },
          "metadata": {},
          "execution_count": 12
        }
      ]
    },
    {
      "cell_type": "code",
      "source": [
        "t[-2] # Negative Indexing"
      ],
      "metadata": {
        "colab": {
          "base_uri": "https://localhost:8080/"
        },
        "id": "xQXLCV6I9Net",
        "outputId": "68667aa6-a8ea-4d76-c571-143c43f0ceeb"
      },
      "execution_count": null,
      "outputs": [
        {
          "output_type": "execute_result",
          "data": {
            "text/plain": [
              "4"
            ]
          },
          "metadata": {},
          "execution_count": 13
        }
      ]
    },
    {
      "cell_type": "code",
      "source": [
        "t[-1] # Negative Indexing"
      ],
      "metadata": {
        "colab": {
          "base_uri": "https://localhost:8080/"
        },
        "id": "z1gB9VRN9XWt",
        "outputId": "8aaaa3d3-9da0-47e0-d2b6-7eb364cc8f0f"
      },
      "execution_count": null,
      "outputs": [
        {
          "output_type": "execute_result",
          "data": {
            "text/plain": [
              "5"
            ]
          },
          "metadata": {},
          "execution_count": 14
        }
      ]
    },
    {
      "cell_type": "markdown",
      "source": [
        "#Slicing"
      ],
      "metadata": {
        "id": "Q-5ruDWukuDW"
      }
    },
    {
      "cell_type": "code",
      "source": [
        "t[0:4]"
      ],
      "metadata": {
        "id": "52nrSrUJ9Y23",
        "colab": {
          "base_uri": "https://localhost:8080/"
        },
        "outputId": "372cc115-9d06-47f6-f0f6-0b01c40c475f"
      },
      "execution_count": null,
      "outputs": [
        {
          "output_type": "execute_result",
          "data": {
            "text/plain": [
              "(1, 2, 3, 4)"
            ]
          },
          "metadata": {},
          "execution_count": 15
        }
      ]
    },
    {
      "cell_type": "code",
      "source": [
        "t[-5:-1]"
      ],
      "metadata": {
        "colab": {
          "base_uri": "https://localhost:8080/"
        },
        "id": "L9KAYlyRaIVI",
        "outputId": "51113609-8663-44c3-80ec-c43a0c630ee3"
      },
      "execution_count": null,
      "outputs": [
        {
          "output_type": "execute_result",
          "data": {
            "text/plain": [
              "(1, 2, 3, 4)"
            ]
          },
          "metadata": {},
          "execution_count": 21
        }
      ]
    },
    {
      "cell_type": "code",
      "source": [
        "t[::-1]"
      ],
      "metadata": {
        "colab": {
          "base_uri": "https://localhost:8080/"
        },
        "id": "C97gE8BzaK65",
        "outputId": "82318e9d-a594-48bc-8796-50ef7744833e"
      },
      "execution_count": null,
      "outputs": [
        {
          "output_type": "execute_result",
          "data": {
            "text/plain": [
              "(5, 4, 3, 2, 1)"
            ]
          },
          "metadata": {},
          "execution_count": 22
        }
      ]
    },
    {
      "cell_type": "markdown",
      "source": [
        "# Tuple Mutability\n",
        "\n",
        "Once a tuple is created, you cannot change its values. Tuples are unchangeable, or immutable as it also is called.\n",
        "But there is a workaround. You can convert the tuple into a list, change the list, and convert the list back into a tuple."
      ],
      "metadata": {
        "id": "rXXpF8LsbgU_"
      }
    },
    {
      "cell_type": "code",
      "source": [
        "tup=([1,2,3,4,4],5,6,7)"
      ],
      "metadata": {
        "id": "vLFOA5rqaa48"
      },
      "execution_count": null,
      "outputs": []
    },
    {
      "cell_type": "code",
      "source": [
        "tup"
      ],
      "metadata": {
        "colab": {
          "base_uri": "https://localhost:8080/"
        },
        "id": "rUDgIJfoaiSg",
        "outputId": "588f9995-76e4-4c32-b461-a92901d90d0c"
      },
      "execution_count": null,
      "outputs": [
        {
          "output_type": "execute_result",
          "data": {
            "text/plain": [
              "([1, 2, 3, 4, 4], 5, 6, 7)"
            ]
          },
          "metadata": {},
          "execution_count": 2
        }
      ]
    },
    {
      "cell_type": "code",
      "source": [
        "type(tup)"
      ],
      "metadata": {
        "colab": {
          "base_uri": "https://localhost:8080/"
        },
        "id": "eg1nxAItaja5",
        "outputId": "e9ff6278-a071-4b39-f8ce-f907069e42cd"
      },
      "execution_count": null,
      "outputs": [
        {
          "output_type": "execute_result",
          "data": {
            "text/plain": [
              "tuple"
            ]
          },
          "metadata": {},
          "execution_count": 3
        }
      ]
    },
    {
      "cell_type": "code",
      "source": [
        "tup[0][4]=5"
      ],
      "metadata": {
        "id": "RdxAMOQkanff"
      },
      "execution_count": null,
      "outputs": []
    },
    {
      "cell_type": "code",
      "source": [
        "tup"
      ],
      "metadata": {
        "colab": {
          "base_uri": "https://localhost:8080/"
        },
        "id": "38LK1WOhawX5",
        "outputId": "77572567-5b4d-4813-836f-39d02dce6c47"
      },
      "execution_count": null,
      "outputs": [
        {
          "output_type": "execute_result",
          "data": {
            "text/plain": [
              "([1, 2, 3, 4, 5], 5, 6, 7)"
            ]
          },
          "metadata": {},
          "execution_count": 5
        }
      ]
    },
    {
      "cell_type": "code",
      "source": [
        "tup[0][3]"
      ],
      "metadata": {
        "colab": {
          "base_uri": "https://localhost:8080/"
        },
        "id": "qRt3W-RqaxNz",
        "outputId": "5bfd0dd6-7744-4d13-9202-41348efe26a3"
      },
      "execution_count": null,
      "outputs": [
        {
          "output_type": "execute_result",
          "data": {
            "text/plain": [
              "4"
            ]
          },
          "metadata": {},
          "execution_count": 6
        }
      ]
    },
    {
      "cell_type": "code",
      "source": [
        "tup=list(tup)"
      ],
      "metadata": {
        "id": "d9LUb2tUa4L-"
      },
      "execution_count": null,
      "outputs": []
    },
    {
      "cell_type": "code",
      "source": [
        "tup"
      ],
      "metadata": {
        "colab": {
          "base_uri": "https://localhost:8080/"
        },
        "id": "1Ynx3ZD9a9nm",
        "outputId": "0d730371-1b4b-4dfa-9c0f-9cc0fb6bd269"
      },
      "execution_count": null,
      "outputs": [
        {
          "output_type": "execute_result",
          "data": {
            "text/plain": [
              "[[1, 2, 3, 4, 5], 5, 6, 7]"
            ]
          },
          "metadata": {},
          "execution_count": 8
        }
      ]
    },
    {
      "cell_type": "code",
      "source": [
        "tup[1]=100"
      ],
      "metadata": {
        "id": "94eAplR5a-f_"
      },
      "execution_count": null,
      "outputs": []
    },
    {
      "cell_type": "code",
      "source": [
        "tup"
      ],
      "metadata": {
        "colab": {
          "base_uri": "https://localhost:8080/"
        },
        "id": "ndWrABc8bCWY",
        "outputId": "edceed14-f525-4dc8-c261-15aacc2c1c01"
      },
      "execution_count": null,
      "outputs": [
        {
          "output_type": "execute_result",
          "data": {
            "text/plain": [
              "[[1, 2, 3, 4, 5], 100, 6, 7]"
            ]
          },
          "metadata": {},
          "execution_count": 10
        }
      ]
    },
    {
      "cell_type": "code",
      "source": [
        "tup=tuple(tup)"
      ],
      "metadata": {
        "id": "mnowkxenbDIk"
      },
      "execution_count": null,
      "outputs": []
    },
    {
      "cell_type": "code",
      "source": [
        "tup"
      ],
      "metadata": {
        "colab": {
          "base_uri": "https://localhost:8080/"
        },
        "id": "VDMjOjz8bFx4",
        "outputId": "d540914f-3455-4467-e0be-5eba279796d0"
      },
      "execution_count": null,
      "outputs": [
        {
          "output_type": "execute_result",
          "data": {
            "text/plain": [
              "([1, 2, 3, 4, 5], 100, 6, 7)"
            ]
          },
          "metadata": {},
          "execution_count": 12
        }
      ]
    },
    {
      "cell_type": "markdown",
      "source": [
        "# Unpacking of Tuple"
      ],
      "metadata": {
        "id": "4eJIFXlgbIjt"
      }
    },
    {
      "cell_type": "code",
      "source": [
        "tupe=(1,2,3,4,5)"
      ],
      "metadata": {
        "id": "6KRlxkqBbGaK"
      },
      "execution_count": null,
      "outputs": []
    },
    {
      "cell_type": "code",
      "source": [
        "a,b,c,d,e=tupe"
      ],
      "metadata": {
        "id": "Dkdl1KxzblsG"
      },
      "execution_count": null,
      "outputs": []
    },
    {
      "cell_type": "code",
      "source": [
        "a"
      ],
      "metadata": {
        "colab": {
          "base_uri": "https://localhost:8080/"
        },
        "id": "FQ5VRTaCbpxF",
        "outputId": "50d88d4e-3f6f-4d0a-ca83-b77a01b0c0e3"
      },
      "execution_count": null,
      "outputs": [
        {
          "output_type": "execute_result",
          "data": {
            "text/plain": [
              "1"
            ]
          },
          "metadata": {},
          "execution_count": 16
        }
      ]
    },
    {
      "cell_type": "markdown",
      "source": [
        "If the number of variables is less than the number of values, you can add an \"*\" to the variable name and the values will be assigned to the variable as a list"
      ],
      "metadata": {
        "id": "KJt_G2EkcCsK"
      }
    },
    {
      "cell_type": "code",
      "source": [
        "a,b,*c=tupe"
      ],
      "metadata": {
        "id": "gPyQTTK2b0Vk"
      },
      "execution_count": null,
      "outputs": []
    },
    {
      "cell_type": "code",
      "source": [
        "c"
      ],
      "metadata": {
        "colab": {
          "base_uri": "https://localhost:8080/"
        },
        "id": "Pt2D4_1jb5sV",
        "outputId": "b8ef6998-ab19-4af7-8b0b-97ad339e0f0d"
      },
      "execution_count": null,
      "outputs": [
        {
          "output_type": "execute_result",
          "data": {
            "text/plain": [
              "[3, 4, 5]"
            ]
          },
          "metadata": {},
          "execution_count": 18
        }
      ]
    },
    {
      "cell_type": "markdown",
      "source": [
        "# Tuple Operations"
      ],
      "metadata": {
        "id": "2Q1liorKdsuL"
      }
    },
    {
      "cell_type": "markdown",
      "source": [
        "#Concatenation"
      ],
      "metadata": {
        "id": "k2cSxE_EezSs"
      }
    },
    {
      "cell_type": "code",
      "source": [
        "t1=(1,2,3)\n",
        "t2=(4,5,6)\n",
        "t1+t2"
      ],
      "metadata": {
        "colab": {
          "base_uri": "https://localhost:8080/"
        },
        "id": "0Ftm4WvVdK5a",
        "outputId": "b0a4444c-931d-4776-e2e9-e1e62b00a7b1"
      },
      "execution_count": 20,
      "outputs": [
        {
          "output_type": "execute_result",
          "data": {
            "text/plain": [
              "(1, 2, 3, 4, 5, 6)"
            ]
          },
          "metadata": {},
          "execution_count": 20
        }
      ]
    },
    {
      "cell_type": "markdown",
      "source": [
        "# Nesting"
      ],
      "metadata": {
        "id": "9_QwdNbEe7xs"
      }
    },
    {
      "cell_type": "code",
      "source": [
        "t3=(t1,t2)"
      ],
      "metadata": {
        "id": "g4iMBWA4eu81"
      },
      "execution_count": 23,
      "outputs": []
    },
    {
      "cell_type": "code",
      "source": [
        "t3"
      ],
      "metadata": {
        "colab": {
          "base_uri": "https://localhost:8080/"
        },
        "id": "gCt37LnPfCIo",
        "outputId": "cdb87817-4163-4db5-9a31-d761a821ae61"
      },
      "execution_count": 24,
      "outputs": [
        {
          "output_type": "execute_result",
          "data": {
            "text/plain": [
              "((1, 2, 3), (4, 5, 6))"
            ]
          },
          "metadata": {},
          "execution_count": 24
        }
      ]
    },
    {
      "cell_type": "markdown",
      "source": [
        "#Repetition"
      ],
      "metadata": {
        "id": "y5b-K5x1kVW9"
      }
    },
    {
      "cell_type": "code",
      "source": [
        "t1*3"
      ],
      "metadata": {
        "colab": {
          "base_uri": "https://localhost:8080/"
        },
        "id": "T9rfHG-Ojubq",
        "outputId": "db3858aa-1419-486e-8e1f-46ad8fff2912"
      },
      "execution_count": 26,
      "outputs": [
        {
          "output_type": "execute_result",
          "data": {
            "text/plain": [
              "(1, 2, 3, 1, 2, 3, 1, 2, 3)"
            ]
          },
          "metadata": {},
          "execution_count": 26
        }
      ]
    },
    {
      "cell_type": "markdown",
      "source": [
        "#Deleting"
      ],
      "metadata": {
        "id": "4-MraMc9kn_S"
      }
    },
    {
      "cell_type": "code",
      "source": [
        "del t1"
      ],
      "metadata": {
        "id": "oVdeWLXwjzIg"
      },
      "execution_count": 28,
      "outputs": []
    },
    {
      "cell_type": "code",
      "source": [
        "t1"
      ],
      "metadata": {
        "colab": {
          "base_uri": "https://localhost:8080/",
          "height": 141
        },
        "id": "yDXlcz2Mj5X0",
        "outputId": "dafab9dd-85da-48e8-8fe1-1e609ea202a6"
      },
      "execution_count": 29,
      "outputs": [
        {
          "output_type": "error",
          "ename": "NameError",
          "evalue": "name 't1' is not defined",
          "traceback": [
            "\u001b[0;31m---------------------------------------------------------------------------\u001b[0m",
            "\u001b[0;31mNameError\u001b[0m                                 Traceback (most recent call last)",
            "\u001b[0;32m<ipython-input-29-5db19043943a>\u001b[0m in \u001b[0;36m<cell line: 1>\u001b[0;34m()\u001b[0m\n\u001b[0;32m----> 1\u001b[0;31m \u001b[0mt1\u001b[0m\u001b[0;34m\u001b[0m\u001b[0;34m\u001b[0m\u001b[0m\n\u001b[0m",
            "\u001b[0;31mNameError\u001b[0m: name 't1' is not defined"
          ]
        }
      ]
    },
    {
      "cell_type": "markdown",
      "source": [
        "#Finding the length"
      ],
      "metadata": {
        "id": "4nuPec37k0U2"
      }
    },
    {
      "cell_type": "code",
      "source": [
        "len(t2)"
      ],
      "metadata": {
        "colab": {
          "base_uri": "https://localhost:8080/"
        },
        "id": "VG2O30Vxj-1z",
        "outputId": "d1da5dc5-a062-427d-aa76-173de0f67459"
      },
      "execution_count": 30,
      "outputs": [
        {
          "output_type": "execute_result",
          "data": {
            "text/plain": [
              "3"
            ]
          },
          "metadata": {},
          "execution_count": 30
        }
      ]
    },
    {
      "cell_type": "markdown",
      "source": [
        "#Multiple Data Types with tuples"
      ],
      "metadata": {
        "id": "Jt6m7w1Qk1r0"
      }
    },
    {
      "cell_type": "code",
      "source": [
        "tuple_obj = (\"immutable\",True,23)\n",
        "tuple_obj"
      ],
      "metadata": {
        "colab": {
          "base_uri": "https://localhost:8080/"
        },
        "id": "Xop2WSDukCug",
        "outputId": "1a9ede49-2667-4adb-b5bb-6508fc3a5ad4"
      },
      "execution_count": 31,
      "outputs": [
        {
          "output_type": "execute_result",
          "data": {
            "text/plain": [
              "('immutable', True, 23)"
            ]
          },
          "metadata": {},
          "execution_count": 31
        }
      ]
    },
    {
      "cell_type": "markdown",
      "source": [
        "#Conversion of lists to tuples"
      ],
      "metadata": {
        "id": "DmhLH43vk8CH"
      }
    },
    {
      "cell_type": "code",
      "source": [
        "l1=[1,2,3,4,5]\n",
        "l1=tuple(l1)\n",
        "l1"
      ],
      "metadata": {
        "colab": {
          "base_uri": "https://localhost:8080/"
        },
        "id": "ma0t7tUzkPnW",
        "outputId": "ad4e512b-62ed-4649-a637-799238d51213"
      },
      "execution_count": 32,
      "outputs": [
        {
          "output_type": "execute_result",
          "data": {
            "text/plain": [
              "(1, 2, 3, 4, 5)"
            ]
          },
          "metadata": {},
          "execution_count": 32
        }
      ]
    },
    {
      "cell_type": "markdown",
      "source": [
        "#Tuples in a Loop"
      ],
      "metadata": {
        "id": "CcBNP1vplIPz"
      }
    },
    {
      "cell_type": "code",
      "source": [
        "t1=(1,2,3,4,5)\n",
        "for i in t1:\n",
        "  print(i)"
      ],
      "metadata": {
        "colab": {
          "base_uri": "https://localhost:8080/"
        },
        "id": "WiTFIdK8lEvO",
        "outputId": "0d83b034-a658-4875-cb97-832bbb237dc4"
      },
      "execution_count": 33,
      "outputs": [
        {
          "output_type": "stream",
          "name": "stdout",
          "text": [
            "1\n",
            "2\n",
            "3\n",
            "4\n",
            "5\n"
          ]
        }
      ]
    }
  ]
}